{
  "cells": [
    {
      "cell_type": "code",
      "execution_count": 1,
      "id": "13f71cb7",
      "metadata": {
        "id": "13f71cb7"
      },
      "outputs": [
        {
          "name": "stdout",
          "output_type": "stream",
          "text": [
            "Collecting git+https://github.com/jeffrey-22/ads.git\n",
            "  Cloning https://github.com/jeffrey-22/ads.git to c:\\users\\86189\\appdata\\local\\temp\\pip-req-build-1b_apck0\n",
            "  Resolved https://github.com/jeffrey-22/ads.git to commit e21089a9ff6bf55e4f41f5450924c78bb4ea4402\n",
            "  Preparing metadata (setup.py): started\n",
            "  Preparing metadata (setup.py): finished with status 'done'\n",
            "Requirement already satisfied: pandas in c:\\users\\86189\\appdata\\local\\programs\\python\\python312\\lib\\site-packages (from fynesse==0.1.1) (2.1.3)\n",
            "Requirement already satisfied: numpy in c:\\users\\86189\\appdata\\local\\programs\\python\\python312\\lib\\site-packages (from fynesse==0.1.1) (1.26.2)\n",
            "Requirement already satisfied: jupyter in c:\\users\\86189\\appdata\\local\\programs\\python\\python312\\lib\\site-packages (from fynesse==0.1.1) (1.0.0)\n",
            "Requirement already satisfied: matplotlib in c:\\users\\86189\\appdata\\local\\programs\\python\\python312\\lib\\site-packages (from fynesse==0.1.1) (3.8.2)\n",
            "Requirement already satisfied: pyyaml in c:\\users\\86189\\appdata\\local\\programs\\python\\python312\\lib\\site-packages (from fynesse==0.1.1) (6.0.1)\n",
            "Requirement already satisfied: pymysql in c:\\users\\86189\\appdata\\local\\programs\\python\\python312\\lib\\site-packages (from fynesse==0.1.1) (1.1.0)\n",
            "Requirement already satisfied: wget in c:\\users\\86189\\appdata\\local\\programs\\python\\python312\\lib\\site-packages (from fynesse==0.1.1) (3.2)\n",
            "Requirement already satisfied: dask in c:\\users\\86189\\appdata\\local\\programs\\python\\python312\\lib\\site-packages (from fynesse==0.1.1) (2023.11.0)\n",
            "Requirement already satisfied: click>=8.1 in c:\\users\\86189\\appdata\\local\\programs\\python\\python312\\lib\\site-packages (from dask->fynesse==0.1.1) (8.1.7)\n",
            "Requirement already satisfied: cloudpickle>=1.5.0 in c:\\users\\86189\\appdata\\local\\programs\\python\\python312\\lib\\site-packages (from dask->fynesse==0.1.1) (3.0.0)\n",
            "Requirement already satisfied: fsspec>=2021.09.0 in c:\\users\\86189\\appdata\\local\\programs\\python\\python312\\lib\\site-packages (from dask->fynesse==0.1.1) (2023.10.0)\n",
            "Requirement already satisfied: packaging>=20.0 in c:\\users\\86189\\appdata\\local\\programs\\python\\python312\\lib\\site-packages (from dask->fynesse==0.1.1) (23.2)\n",
            "Requirement already satisfied: partd>=1.2.0 in c:\\users\\86189\\appdata\\local\\programs\\python\\python312\\lib\\site-packages (from dask->fynesse==0.1.1) (1.4.1)\n",
            "Requirement already satisfied: toolz>=0.10.0 in c:\\users\\86189\\appdata\\local\\programs\\python\\python312\\lib\\site-packages (from dask->fynesse==0.1.1) (0.12.0)\n",
            "Requirement already satisfied: importlib-metadata>=4.13.0 in c:\\users\\86189\\appdata\\local\\programs\\python\\python312\\lib\\site-packages (from dask->fynesse==0.1.1) (6.8.0)\n",
            "Requirement already satisfied: notebook in c:\\users\\86189\\appdata\\local\\programs\\python\\python312\\lib\\site-packages (from jupyter->fynesse==0.1.1) (7.0.6)\n",
            "Requirement already satisfied: qtconsole in c:\\users\\86189\\appdata\\local\\programs\\python\\python312\\lib\\site-packages (from jupyter->fynesse==0.1.1) (5.5.1)\n",
            "Requirement already satisfied: jupyter-console in c:\\users\\86189\\appdata\\local\\programs\\python\\python312\\lib\\site-packages (from jupyter->fynesse==0.1.1) (6.6.3)\n",
            "Requirement already satisfied: nbconvert in c:\\users\\86189\\appdata\\local\\programs\\python\\python312\\lib\\site-packages (from jupyter->fynesse==0.1.1) (7.11.0)\n",
            "Requirement already satisfied: ipykernel in c:\\users\\86189\\appdata\\local\\programs\\python\\python312\\lib\\site-packages (from jupyter->fynesse==0.1.1) (6.26.0)\n",
            "Requirement already satisfied: ipywidgets in c:\\users\\86189\\appdata\\local\\programs\\python\\python312\\lib\\site-packages (from jupyter->fynesse==0.1.1) (8.1.1)\n",
            "Requirement already satisfied: contourpy>=1.0.1 in c:\\users\\86189\\appdata\\local\\programs\\python\\python312\\lib\\site-packages (from matplotlib->fynesse==0.1.1) (1.2.0)\n",
            "Requirement already satisfied: cycler>=0.10 in c:\\users\\86189\\appdata\\local\\programs\\python\\python312\\lib\\site-packages (from matplotlib->fynesse==0.1.1) (0.12.1)\n",
            "Requirement already satisfied: fonttools>=4.22.0 in c:\\users\\86189\\appdata\\local\\programs\\python\\python312\\lib\\site-packages (from matplotlib->fynesse==0.1.1) (4.44.3)\n",
            "Requirement already satisfied: kiwisolver>=1.3.1 in c:\\users\\86189\\appdata\\local\\programs\\python\\python312\\lib\\site-packages (from matplotlib->fynesse==0.1.1) (1.4.5)\n",
            "Requirement already satisfied: pillow>=8 in c:\\users\\86189\\appdata\\local\\programs\\python\\python312\\lib\\site-packages (from matplotlib->fynesse==0.1.1) (10.1.0)\n",
            "Requirement already satisfied: pyparsing>=2.3.1 in c:\\users\\86189\\appdata\\local\\programs\\python\\python312\\lib\\site-packages (from matplotlib->fynesse==0.1.1) (3.1.1)\n",
            "Requirement already satisfied: python-dateutil>=2.7 in c:\\users\\86189\\appdata\\local\\programs\\python\\python312\\lib\\site-packages (from matplotlib->fynesse==0.1.1) (2.8.2)\n",
            "Requirement already satisfied: pytz>=2020.1 in c:\\users\\86189\\appdata\\local\\programs\\python\\python312\\lib\\site-packages (from pandas->fynesse==0.1.1) (2023.3.post1)\n",
            "Requirement already satisfied: tzdata>=2022.1 in c:\\users\\86189\\appdata\\local\\programs\\python\\python312\\lib\\site-packages (from pandas->fynesse==0.1.1) (2023.3)\n",
            "Requirement already satisfied: colorama in c:\\users\\86189\\appdata\\local\\programs\\python\\python312\\lib\\site-packages (from click>=8.1->dask->fynesse==0.1.1) (0.4.6)\n",
            "Requirement already satisfied: zipp>=0.5 in c:\\users\\86189\\appdata\\local\\programs\\python\\python312\\lib\\site-packages (from importlib-metadata>=4.13.0->dask->fynesse==0.1.1) (3.17.0)\n",
            "Requirement already satisfied: locket in c:\\users\\86189\\appdata\\local\\programs\\python\\python312\\lib\\site-packages (from partd>=1.2.0->dask->fynesse==0.1.1) (1.0.0)\n",
            "Requirement already satisfied: six>=1.5 in c:\\users\\86189\\appdata\\local\\programs\\python\\python312\\lib\\site-packages (from python-dateutil>=2.7->matplotlib->fynesse==0.1.1) (1.16.0)\n",
            "Requirement already satisfied: comm>=0.1.1 in c:\\users\\86189\\appdata\\local\\programs\\python\\python312\\lib\\site-packages (from ipykernel->jupyter->fynesse==0.1.1) (0.2.0)\n",
            "Requirement already satisfied: debugpy>=1.6.5 in c:\\users\\86189\\appdata\\local\\programs\\python\\python312\\lib\\site-packages (from ipykernel->jupyter->fynesse==0.1.1) (1.8.0)\n",
            "Requirement already satisfied: ipython>=7.23.1 in c:\\users\\86189\\appdata\\local\\programs\\python\\python312\\lib\\site-packages (from ipykernel->jupyter->fynesse==0.1.1) (8.17.2)\n",
            "Requirement already satisfied: jupyter-client>=6.1.12 in c:\\users\\86189\\appdata\\local\\programs\\python\\python312\\lib\\site-packages (from ipykernel->jupyter->fynesse==0.1.1) (8.6.0)\n",
            "Requirement already satisfied: jupyter-core!=5.0.*,>=4.12 in c:\\users\\86189\\appdata\\local\\programs\\python\\python312\\lib\\site-packages (from ipykernel->jupyter->fynesse==0.1.1) (5.5.0)\n",
            "Requirement already satisfied: matplotlib-inline>=0.1 in c:\\users\\86189\\appdata\\local\\programs\\python\\python312\\lib\\site-packages (from ipykernel->jupyter->fynesse==0.1.1) (0.1.6)\n",
            "Requirement already satisfied: nest-asyncio in c:\\users\\86189\\appdata\\local\\programs\\python\\python312\\lib\\site-packages (from ipykernel->jupyter->fynesse==0.1.1) (1.5.8)\n",
            "Requirement already satisfied: psutil in c:\\users\\86189\\appdata\\local\\programs\\python\\python312\\lib\\site-packages (from ipykernel->jupyter->fynesse==0.1.1) (5.9.6)\n",
            "Requirement already satisfied: pyzmq>=20 in c:\\users\\86189\\appdata\\local\\programs\\python\\python312\\lib\\site-packages (from ipykernel->jupyter->fynesse==0.1.1) (25.1.1)\n",
            "Requirement already satisfied: tornado>=6.1 in c:\\users\\86189\\appdata\\local\\programs\\python\\python312\\lib\\site-packages (from ipykernel->jupyter->fynesse==0.1.1) (6.3.3)\n",
            "Requirement already satisfied: traitlets>=5.4.0 in c:\\users\\86189\\appdata\\local\\programs\\python\\python312\\lib\\site-packages (from ipykernel->jupyter->fynesse==0.1.1) (5.13.0)\n",
            "Requirement already satisfied: widgetsnbextension~=4.0.9 in c:\\users\\86189\\appdata\\local\\programs\\python\\python312\\lib\\site-packages (from ipywidgets->jupyter->fynesse==0.1.1) (4.0.9)\n",
            "Requirement already satisfied: jupyterlab-widgets~=3.0.9 in c:\\users\\86189\\appdata\\local\\programs\\python\\python312\\lib\\site-packages (from ipywidgets->jupyter->fynesse==0.1.1) (3.0.9)\n",
            "Requirement already satisfied: prompt-toolkit>=3.0.30 in c:\\users\\86189\\appdata\\local\\programs\\python\\python312\\lib\\site-packages (from jupyter-console->jupyter->fynesse==0.1.1) (3.0.41)\n",
            "Requirement already satisfied: pygments in c:\\users\\86189\\appdata\\local\\programs\\python\\python312\\lib\\site-packages (from jupyter-console->jupyter->fynesse==0.1.1) (2.17.1)\n",
            "Requirement already satisfied: beautifulsoup4 in c:\\users\\86189\\appdata\\local\\programs\\python\\python312\\lib\\site-packages (from nbconvert->jupyter->fynesse==0.1.1) (4.12.2)\n",
            "Requirement already satisfied: bleach!=5.0.0 in c:\\users\\86189\\appdata\\local\\programs\\python\\python312\\lib\\site-packages (from nbconvert->jupyter->fynesse==0.1.1) (6.1.0)\n",
            "Requirement already satisfied: defusedxml in c:\\users\\86189\\appdata\\local\\programs\\python\\python312\\lib\\site-packages (from nbconvert->jupyter->fynesse==0.1.1) (0.7.1)\n",
            "Requirement already satisfied: jinja2>=3.0 in c:\\users\\86189\\appdata\\local\\programs\\python\\python312\\lib\\site-packages (from nbconvert->jupyter->fynesse==0.1.1) (3.1.2)\n",
            "Requirement already satisfied: jupyterlab-pygments in c:\\users\\86189\\appdata\\local\\programs\\python\\python312\\lib\\site-packages (from nbconvert->jupyter->fynesse==0.1.1) (0.2.2)\n",
            "Requirement already satisfied: markupsafe>=2.0 in c:\\users\\86189\\appdata\\local\\programs\\python\\python312\\lib\\site-packages (from nbconvert->jupyter->fynesse==0.1.1) (2.1.3)\n",
            "Requirement already satisfied: mistune<4,>=2.0.3 in c:\\users\\86189\\appdata\\local\\programs\\python\\python312\\lib\\site-packages (from nbconvert->jupyter->fynesse==0.1.1) (3.0.2)\n",
            "Requirement already satisfied: nbclient>=0.5.0 in c:\\users\\86189\\appdata\\local\\programs\\python\\python312\\lib\\site-packages (from nbconvert->jupyter->fynesse==0.1.1) (0.9.0)\n",
            "Requirement already satisfied: nbformat>=5.7 in c:\\users\\86189\\appdata\\local\\programs\\python\\python312\\lib\\site-packages (from nbconvert->jupyter->fynesse==0.1.1) (5.9.2)\n",
            "Requirement already satisfied: pandocfilters>=1.4.1 in c:\\users\\86189\\appdata\\local\\programs\\python\\python312\\lib\\site-packages (from nbconvert->jupyter->fynesse==0.1.1) (1.5.0)\n",
            "Requirement already satisfied: tinycss2 in c:\\users\\86189\\appdata\\local\\programs\\python\\python312\\lib\\site-packages (from nbconvert->jupyter->fynesse==0.1.1) (1.2.1)\n",
            "Requirement already satisfied: jupyter-server<3,>=2.4.0 in c:\\users\\86189\\appdata\\local\\programs\\python\\python312\\lib\\site-packages (from notebook->jupyter->fynesse==0.1.1) (2.10.1)\n",
            "Requirement already satisfied: jupyterlab-server<3,>=2.22.1 in c:\\users\\86189\\appdata\\local\\programs\\python\\python312\\lib\\site-packages (from notebook->jupyter->fynesse==0.1.1) (2.25.2)\n",
            "Requirement already satisfied: jupyterlab<5,>=4.0.2 in c:\\users\\86189\\appdata\\local\\programs\\python\\python312\\lib\\site-packages (from notebook->jupyter->fynesse==0.1.1) (4.0.9)\n",
            "Requirement already satisfied: notebook-shim<0.3,>=0.2 in c:\\users\\86189\\appdata\\local\\programs\\python\\python312\\lib\\site-packages (from notebook->jupyter->fynesse==0.1.1) (0.2.3)\n",
            "Requirement already satisfied: qtpy>=2.4.0 in c:\\users\\86189\\appdata\\local\\programs\\python\\python312\\lib\\site-packages (from qtconsole->jupyter->fynesse==0.1.1) (2.4.1)\n",
            "Requirement already satisfied: webencodings in c:\\users\\86189\\appdata\\local\\programs\\python\\python312\\lib\\site-packages (from bleach!=5.0.0->nbconvert->jupyter->fynesse==0.1.1) (0.5.1)\n",
            "Requirement already satisfied: decorator in c:\\users\\86189\\appdata\\local\\programs\\python\\python312\\lib\\site-packages (from ipython>=7.23.1->ipykernel->jupyter->fynesse==0.1.1) (5.1.1)\n",
            "Requirement already satisfied: jedi>=0.16 in c:\\users\\86189\\appdata\\local\\programs\\python\\python312\\lib\\site-packages (from ipython>=7.23.1->ipykernel->jupyter->fynesse==0.1.1) (0.19.1)\n",
            "Requirement already satisfied: stack-data in c:\\users\\86189\\appdata\\local\\programs\\python\\python312\\lib\\site-packages (from ipython>=7.23.1->ipykernel->jupyter->fynesse==0.1.1) (0.6.3)\n",
            "Requirement already satisfied: platformdirs>=2.5 in c:\\users\\86189\\appdata\\local\\programs\\python\\python312\\lib\\site-packages (from jupyter-core!=5.0.*,>=4.12->ipykernel->jupyter->fynesse==0.1.1) (4.0.0)\n",
            "Requirement already satisfied: pywin32>=300 in c:\\users\\86189\\appdata\\local\\programs\\python\\python312\\lib\\site-packages (from jupyter-core!=5.0.*,>=4.12->ipykernel->jupyter->fynesse==0.1.1) (306)\n",
            "Requirement already satisfied: anyio>=3.1.0 in c:\\users\\86189\\appdata\\local\\programs\\python\\python312\\lib\\site-packages (from jupyter-server<3,>=2.4.0->notebook->jupyter->fynesse==0.1.1) (4.0.0)\n",
            "Requirement already satisfied: argon2-cffi in c:\\users\\86189\\appdata\\local\\programs\\python\\python312\\lib\\site-packages (from jupyter-server<3,>=2.4.0->notebook->jupyter->fynesse==0.1.1) (23.1.0)\n",
            "Requirement already satisfied: jupyter-events>=0.9.0 in c:\\users\\86189\\appdata\\local\\programs\\python\\python312\\lib\\site-packages (from jupyter-server<3,>=2.4.0->notebook->jupyter->fynesse==0.1.1) (0.9.0)\n",
            "Requirement already satisfied: jupyter-server-terminals in c:\\users\\86189\\appdata\\local\\programs\\python\\python312\\lib\\site-packages (from jupyter-server<3,>=2.4.0->notebook->jupyter->fynesse==0.1.1) (0.4.4)\n",
            "Requirement already satisfied: overrides in c:\\users\\86189\\appdata\\local\\programs\\python\\python312\\lib\\site-packages (from jupyter-server<3,>=2.4.0->notebook->jupyter->fynesse==0.1.1) (7.4.0)\n",
            "Requirement already satisfied: prometheus-client in c:\\users\\86189\\appdata\\local\\programs\\python\\python312\\lib\\site-packages (from jupyter-server<3,>=2.4.0->notebook->jupyter->fynesse==0.1.1) (0.18.0)\n",
            "Requirement already satisfied: pywinpty in c:\\users\\86189\\appdata\\local\\programs\\python\\python312\\lib\\site-packages (from jupyter-server<3,>=2.4.0->notebook->jupyter->fynesse==0.1.1) (2.0.12)\n",
            "Requirement already satisfied: send2trash>=1.8.2 in c:\\users\\86189\\appdata\\local\\programs\\python\\python312\\lib\\site-packages (from jupyter-server<3,>=2.4.0->notebook->jupyter->fynesse==0.1.1) (1.8.2)\n",
            "Requirement already satisfied: terminado>=0.8.3 in c:\\users\\86189\\appdata\\local\\programs\\python\\python312\\lib\\site-packages (from jupyter-server<3,>=2.4.0->notebook->jupyter->fynesse==0.1.1) (0.18.0)\n",
            "Requirement already satisfied: websocket-client in c:\\users\\86189\\appdata\\local\\programs\\python\\python312\\lib\\site-packages (from jupyter-server<3,>=2.4.0->notebook->jupyter->fynesse==0.1.1) (1.6.4)\n",
            "Requirement already satisfied: async-lru>=1.0.0 in c:\\users\\86189\\appdata\\local\\programs\\python\\python312\\lib\\site-packages (from jupyterlab<5,>=4.0.2->notebook->jupyter->fynesse==0.1.1) (2.0.4)\n",
            "Requirement already satisfied: jupyter-lsp>=2.0.0 in c:\\users\\86189\\appdata\\local\\programs\\python\\python312\\lib\\site-packages (from jupyterlab<5,>=4.0.2->notebook->jupyter->fynesse==0.1.1) (2.2.0)\n",
            "Requirement already satisfied: babel>=2.10 in c:\\users\\86189\\appdata\\local\\programs\\python\\python312\\lib\\site-packages (from jupyterlab-server<3,>=2.22.1->notebook->jupyter->fynesse==0.1.1) (2.13.1)\n",
            "Requirement already satisfied: json5>=0.9.0 in c:\\users\\86189\\appdata\\local\\programs\\python\\python312\\lib\\site-packages (from jupyterlab-server<3,>=2.22.1->notebook->jupyter->fynesse==0.1.1) (0.9.14)\n",
            "Requirement already satisfied: jsonschema>=4.18.0 in c:\\users\\86189\\appdata\\local\\programs\\python\\python312\\lib\\site-packages (from jupyterlab-server<3,>=2.22.1->notebook->jupyter->fynesse==0.1.1) (4.20.0)\n",
            "Requirement already satisfied: requests>=2.31 in c:\\users\\86189\\appdata\\local\\programs\\python\\python312\\lib\\site-packages (from jupyterlab-server<3,>=2.22.1->notebook->jupyter->fynesse==0.1.1) (2.31.0)\n",
            "Requirement already satisfied: fastjsonschema in c:\\users\\86189\\appdata\\local\\programs\\python\\python312\\lib\\site-packages (from nbformat>=5.7->nbconvert->jupyter->fynesse==0.1.1) (2.19.0)\n",
            "Requirement already satisfied: wcwidth in c:\\users\\86189\\appdata\\local\\programs\\python\\python312\\lib\\site-packages (from prompt-toolkit>=3.0.30->jupyter-console->jupyter->fynesse==0.1.1) (0.2.10)\n",
            "Requirement already satisfied: soupsieve>1.2 in c:\\users\\86189\\appdata\\local\\programs\\python\\python312\\lib\\site-packages (from beautifulsoup4->nbconvert->jupyter->fynesse==0.1.1) (2.5)\n",
            "Requirement already satisfied: idna>=2.8 in c:\\users\\86189\\appdata\\local\\programs\\python\\python312\\lib\\site-packages (from anyio>=3.1.0->jupyter-server<3,>=2.4.0->notebook->jupyter->fynesse==0.1.1) (3.4)\n",
            "Requirement already satisfied: sniffio>=1.1 in c:\\users\\86189\\appdata\\local\\programs\\python\\python312\\lib\\site-packages (from anyio>=3.1.0->jupyter-server<3,>=2.4.0->notebook->jupyter->fynesse==0.1.1) (1.3.0)\n",
            "Requirement already satisfied: setuptools in c:\\users\\86189\\appdata\\local\\programs\\python\\python312\\lib\\site-packages (from babel>=2.10->jupyterlab-server<3,>=2.22.1->notebook->jupyter->fynesse==0.1.1) (68.2.2)\n",
            "Requirement already satisfied: parso<0.9.0,>=0.8.3 in c:\\users\\86189\\appdata\\local\\programs\\python\\python312\\lib\\site-packages (from jedi>=0.16->ipython>=7.23.1->ipykernel->jupyter->fynesse==0.1.1) (0.8.3)\n",
            "Requirement already satisfied: attrs>=22.2.0 in c:\\users\\86189\\appdata\\local\\programs\\python\\python312\\lib\\site-packages (from jsonschema>=4.18.0->jupyterlab-server<3,>=2.22.1->notebook->jupyter->fynesse==0.1.1) (23.1.0)\n",
            "Requirement already satisfied: jsonschema-specifications>=2023.03.6 in c:\\users\\86189\\appdata\\local\\programs\\python\\python312\\lib\\site-packages (from jsonschema>=4.18.0->jupyterlab-server<3,>=2.22.1->notebook->jupyter->fynesse==0.1.1) (2023.11.1)\n",
            "Requirement already satisfied: referencing>=0.28.4 in c:\\users\\86189\\appdata\\local\\programs\\python\\python312\\lib\\site-packages (from jsonschema>=4.18.0->jupyterlab-server<3,>=2.22.1->notebook->jupyter->fynesse==0.1.1) (0.31.0)\n",
            "Requirement already satisfied: rpds-py>=0.7.1 in c:\\users\\86189\\appdata\\local\\programs\\python\\python312\\lib\\site-packages (from jsonschema>=4.18.0->jupyterlab-server<3,>=2.22.1->notebook->jupyter->fynesse==0.1.1) (0.13.0)\n",
            "Requirement already satisfied: python-json-logger>=2.0.4 in c:\\users\\86189\\appdata\\local\\programs\\python\\python312\\lib\\site-packages (from jupyter-events>=0.9.0->jupyter-server<3,>=2.4.0->notebook->jupyter->fynesse==0.1.1) (2.0.7)\n",
            "Requirement already satisfied: rfc3339-validator in c:\\users\\86189\\appdata\\local\\programs\\python\\python312\\lib\\site-packages (from jupyter-events>=0.9.0->jupyter-server<3,>=2.4.0->notebook->jupyter->fynesse==0.1.1) (0.1.4)\n",
            "Requirement already satisfied: rfc3986-validator>=0.1.1 in c:\\users\\86189\\appdata\\local\\programs\\python\\python312\\lib\\site-packages (from jupyter-events>=0.9.0->jupyter-server<3,>=2.4.0->notebook->jupyter->fynesse==0.1.1) (0.1.1)\n",
            "Requirement already satisfied: charset-normalizer<4,>=2 in c:\\users\\86189\\appdata\\local\\programs\\python\\python312\\lib\\site-packages (from requests>=2.31->jupyterlab-server<3,>=2.22.1->notebook->jupyter->fynesse==0.1.1) (3.3.2)\n",
            "Requirement already satisfied: urllib3<3,>=1.21.1 in c:\\users\\86189\\appdata\\local\\programs\\python\\python312\\lib\\site-packages (from requests>=2.31->jupyterlab-server<3,>=2.22.1->notebook->jupyter->fynesse==0.1.1) (2.1.0)\n",
            "Requirement already satisfied: certifi>=2017.4.17 in c:\\users\\86189\\appdata\\local\\programs\\python\\python312\\lib\\site-packages (from requests>=2.31->jupyterlab-server<3,>=2.22.1->notebook->jupyter->fynesse==0.1.1) (2023.11.17)\n",
            "Requirement already satisfied: argon2-cffi-bindings in c:\\users\\86189\\appdata\\local\\programs\\python\\python312\\lib\\site-packages (from argon2-cffi->jupyter-server<3,>=2.4.0->notebook->jupyter->fynesse==0.1.1) (21.2.0)\n",
            "Requirement already satisfied: executing>=1.2.0 in c:\\users\\86189\\appdata\\local\\programs\\python\\python312\\lib\\site-packages (from stack-data->ipython>=7.23.1->ipykernel->jupyter->fynesse==0.1.1) (2.0.1)\n",
            "Requirement already satisfied: asttokens>=2.1.0 in c:\\users\\86189\\appdata\\local\\programs\\python\\python312\\lib\\site-packages (from stack-data->ipython>=7.23.1->ipykernel->jupyter->fynesse==0.1.1) (2.4.1)\n",
            "Requirement already satisfied: pure-eval in c:\\users\\86189\\appdata\\local\\programs\\python\\python312\\lib\\site-packages (from stack-data->ipython>=7.23.1->ipykernel->jupyter->fynesse==0.1.1) (0.2.2)\n",
            "Requirement already satisfied: fqdn in c:\\users\\86189\\appdata\\local\\programs\\python\\python312\\lib\\site-packages (from jsonschema[format-nongpl]>=4.18.0->jupyter-events>=0.9.0->jupyter-server<3,>=2.4.0->notebook->jupyter->fynesse==0.1.1) (1.5.1)\n",
            "Requirement already satisfied: isoduration in c:\\users\\86189\\appdata\\local\\programs\\python\\python312\\lib\\site-packages (from jsonschema[format-nongpl]>=4.18.0->jupyter-events>=0.9.0->jupyter-server<3,>=2.4.0->notebook->jupyter->fynesse==0.1.1) (20.11.0)\n",
            "Requirement already satisfied: jsonpointer>1.13 in c:\\users\\86189\\appdata\\local\\programs\\python\\python312\\lib\\site-packages (from jsonschema[format-nongpl]>=4.18.0->jupyter-events>=0.9.0->jupyter-server<3,>=2.4.0->notebook->jupyter->fynesse==0.1.1) (2.4)\n",
            "Requirement already satisfied: uri-template in c:\\users\\86189\\appdata\\local\\programs\\python\\python312\\lib\\site-packages (from jsonschema[format-nongpl]>=4.18.0->jupyter-events>=0.9.0->jupyter-server<3,>=2.4.0->notebook->jupyter->fynesse==0.1.1) (1.3.0)\n",
            "Requirement already satisfied: webcolors>=1.11 in c:\\users\\86189\\appdata\\local\\programs\\python\\python312\\lib\\site-packages (from jsonschema[format-nongpl]>=4.18.0->jupyter-events>=0.9.0->jupyter-server<3,>=2.4.0->notebook->jupyter->fynesse==0.1.1) (1.13)\n",
            "Requirement already satisfied: cffi>=1.0.1 in c:\\users\\86189\\appdata\\local\\programs\\python\\python312\\lib\\site-packages (from argon2-cffi-bindings->argon2-cffi->jupyter-server<3,>=2.4.0->notebook->jupyter->fynesse==0.1.1) (1.16.0)\n",
            "Requirement already satisfied: pycparser in c:\\users\\86189\\appdata\\local\\programs\\python\\python312\\lib\\site-packages (from cffi>=1.0.1->argon2-cffi-bindings->argon2-cffi->jupyter-server<3,>=2.4.0->notebook->jupyter->fynesse==0.1.1) (2.21)\n",
            "Requirement already satisfied: arrow>=0.15.0 in c:\\users\\86189\\appdata\\local\\programs\\python\\python312\\lib\\site-packages (from isoduration->jsonschema[format-nongpl]>=4.18.0->jupyter-events>=0.9.0->jupyter-server<3,>=2.4.0->notebook->jupyter->fynesse==0.1.1) (1.3.0)\n",
            "Requirement already satisfied: types-python-dateutil>=2.8.10 in c:\\users\\86189\\appdata\\local\\programs\\python\\python312\\lib\\site-packages (from arrow>=0.15.0->isoduration->jsonschema[format-nongpl]>=4.18.0->jupyter-events>=0.9.0->jupyter-server<3,>=2.4.0->notebook->jupyter->fynesse==0.1.1) (2.8.19.14)\n",
            "Note: you may need to restart the kernel to use updated packages.\n"
          ]
        },
        {
          "name": "stderr",
          "output_type": "stream",
          "text": [
            "  Running command git clone --filter=blob:none --quiet https://github.com/jeffrey-22/ads.git 'C:\\Users\\86189\\AppData\\Local\\Temp\\pip-req-build-1b_apck0'\n"
          ]
        }
      ],
      "source": [
        "# Install your library here, for example the fynesse template\n",
        "# is set up to be pip installable\n",
        "%pip install git+https://github.com/jeffrey-22/ads.git\n",
        "import fynesse\n",
        "# 2 min"
      ]
    },
    {
      "cell_type": "code",
      "execution_count": 141,
      "metadata": {},
      "outputs": [],
      "source": [
        "pp_database_details = fynesse.access.retreive_database_details()\n",
        "# fynesse.access.create_database(pp_database_details)\n",
        "pp_database_conn = fynesse.access.create_connection(pp_database_details)"
      ]
    },
    {
      "cell_type": "markdown",
      "id": "e789b174",
      "metadata": {
        "id": "e789b174"
      },
      "source": [
        "In the box below, briefly describe what the schema is doing."
      ]
    },
    {
      "cell_type": "markdown",
      "id": "d7d9d674",
      "metadata": {
        "id": "d7d9d674"
      },
      "source": [
        "```GIVE YOUR WRITTEN ANSWER HERE```"
      ]
    },
    {
      "cell_type": "code",
      "execution_count": 46,
      "id": "92da8c96",
      "metadata": {
        "id": "92da8c96"
      },
      "outputs": [
        {
          "name": "stdout",
          "output_type": "stream",
          "text": [
            "Downloaded files: {'tmp_data\\\\pp-2021-part2.csv', 'tmp_data\\\\pp-2014-part2.csv', 'tmp_data\\\\pp-1997-part1.csv', 'tmp_data\\\\pp-2010-part2.csv', 'tmp_data\\\\pp-2019-part2.csv', 'tmp_data\\\\pp-2021-part1.csv', 'tmp_data\\\\pp-2003-part2.csv', 'tmp_data\\\\pp-2020-part1.csv', 'tmp_data\\\\pp-2012-part1.csv', 'tmp_data\\\\pp-2022.csv', 'tmp_data\\\\pp-2011-part2.csv', 'tmp_data\\\\pp-2006-part2.csv', 'tmp_data\\\\pp-2018-part1.csv', 'tmp_data\\\\pp-2007-part2.csv', 'tmp_data\\\\pp-2005-part1.csv', 'tmp_data\\\\pp-1998-part2.csv', 'tmp_data\\\\pp-2013-part1.csv', 'tmp_data\\\\pp-2013-part2.csv', 'tmp_data\\\\pp-2009-part2.csv', 'tmp_data\\\\pp-2007-part1.csv', 'tmp_data\\\\pp-2006-part1.csv', 'tmp_data\\\\pp-2000-part2.csv', 'tmp_data\\\\pp-1997-part2.csv', 'tmp_data\\\\pp-1995-part2.csv', 'tmp_data\\\\pp-2005-part2.csv', 'tmp_data\\\\pp-2014-part1.csv', 'tmp_data\\\\pp-1998-part1.csv', 'tmp_data\\\\pp-2016-part1.csv', 'tmp_data\\\\pp-2016-part2.csv', 'tmp_data\\\\pp-1996-part1.csv', 'tmp_data\\\\pp-2011-part1.csv', 'tmp_data\\\\pp-2017-part1.csv', 'tmp_data\\\\pp-2018-part2.csv', 'tmp_data\\\\pp-2019-part1.csv', 'tmp_data\\\\pp-2017-part2.csv', 'tmp_data\\\\pp-2010-part1.csv', 'tmp_data\\\\pp-2002-part2.csv', 'tmp_data\\\\pp-2020-part2.csv', 'tmp_data\\\\pp-1996-part2.csv', 'tmp_data\\\\pp-1999-part1.csv', 'tmp_data\\\\pp-2003-part1.csv', 'tmp_data\\\\pp-2008-part1.csv', 'tmp_data\\\\pp-2001-part1.csv', 'tmp_data\\\\pp-2015-part1.csv', 'tmp_data\\\\pp-2000-part1.csv', 'tmp_data\\\\pp-2015-part2.csv', 'tmp_data\\\\pp-2009-part1.csv', 'tmp_data\\\\pp-2004-part1.csv', 'tmp_data\\\\pp-2001-part2.csv', 'tmp_data\\\\pp-1999-part2.csv', 'tmp_data\\\\pp-2002-part1.csv', 'tmp_data\\\\pp-2004-part2.csv', 'tmp_data\\\\pp-1995-part1.csv', 'tmp_data\\\\pp-2008-part2.csv', 'tmp_data\\\\pp-2012-part2.csv'}\n"
          ]
        }
      ],
      "source": [
        "# Write the code you need for creating the table, downloading and uploading the data here. You can use as many code blocks as you need.\n",
        "import os\n",
        "os.makedirs(\"tmp_data\", exist_ok=True)\n",
        "downloaded_pathnames = fynesse.access.download_price_data()\n",
        "print(f\"Downloaded files: {downloaded_pathnames}\")\n",
        "# 20 min"
      ]
    },
    {
      "cell_type": "code",
      "execution_count": null,
      "metadata": {},
      "outputs": [],
      "source": [
        "# fynesse.access.create_pp_table(pp_database_conn)"
      ]
    },
    {
      "cell_type": "code",
      "execution_count": null,
      "metadata": {},
      "outputs": [],
      "source": [
        "# 15m\n",
        "fynesse.access.upload_files_to_table(pp_database_conn, downloaded_pathnames, 'pp_data')"
      ]
    },
    {
      "cell_type": "code",
      "execution_count": null,
      "metadata": {},
      "outputs": [],
      "source": [
        "# 8m 30s\n",
        "fynesse.access.setup_pp_table(pp_database_conn)"
      ]
    },
    {
      "cell_type": "code",
      "execution_count": null,
      "metadata": {},
      "outputs": [],
      "source": [
        "fynesse.access.select_count(pp_database_conn, 'pp_data')"
      ]
    },
    {
      "cell_type": "code",
      "execution_count": null,
      "metadata": {},
      "outputs": [],
      "source": [
        "# fynesse.access.create_postcode_table(pp_database_conn)"
      ]
    },
    {
      "cell_type": "code",
      "execution_count": 8,
      "metadata": {},
      "outputs": [
        {
          "name": "stdout",
          "output_type": "stream",
          "text": [
            "tmp_data\n"
          ]
        }
      ],
      "source": [
        "# 10s\n",
        "postcode_filename = fynesse.access.download_postcode_data()"
      ]
    },
    {
      "cell_type": "code",
      "execution_count": null,
      "metadata": {},
      "outputs": [],
      "source": [
        "# 1m\n",
        "fynesse.access.upload_files_to_table(pp_database_conn, [postcode_filename], 'postcode_data')"
      ]
    },
    {
      "cell_type": "code",
      "execution_count": null,
      "metadata": {},
      "outputs": [],
      "source": [
        "# 1m\n",
        "fynesse.access.setup_postcode_table(pp_database_conn)"
      ]
    },
    {
      "cell_type": "markdown",
      "id": "d67ca4ef",
      "metadata": {
        "id": "d67ca4ef"
      },
      "source": [
        "### Task D\n",
        "\n",
        "This table should contain the house price paid and the latitude and longitude of the house. We could create a new data frame that contains all this information. However, the computation of that data frame would take some time because of the size of the two existing tables in the join. Whether this is a good idea or not in a live system will depend on how often these predictions are required. If it's very often, it would be better to store the join as a new table in the database, because the one-off cost for that join is amortised across all the future predictions. If only a few predictions are required (like in our lab class) then doing that join on the fly might be better.\n",
        "\n",
        "- Option A: Think about which columns from each table will be useful to you in making predictions, then write code to efficiently select this information and create a data frame from the two tables for a set of properties. \"Join on the fly\". This option looks easier but the disadvantage is the extra latency it adds as joins are performed every time we need to answer data questions. These latencies are usually not accepted in production environments.\n",
        "\n",
        "- Option B: Alternatively, you can create a database table called `property_prices` to store the join of the tables you created in the previous tasks. The advantage of this approach is that you will get faster responses because the join is performed once. The disadvantage is that populating the new table can take a long time because you would join two big tables. You need to be more creative with this option. Remember that you can divide your dataset by different criteria (e.g., by year) and that loading data from files is much faster than `INSERT INTO` instructions. Populating the table took from 4 to 6 minutes per year in our tests on a Dell Laptop Intel Core i5 with 16GB of RAM and using the Eduroam network at the Computer Lab. Populating the table by year also gives you control over the upload process. You could write your code in a way you can stop and restart the upload process. The new table could have a schema like the one below:\n",
        "\n",
        "  ```\n",
        "  USE `property_prices`;\n",
        "  --\n",
        "  -- Table structure for table `prices_coordinates_data`\n",
        "  --\n",
        "  DROP TABLE IF EXISTS `prices_coordinates_data`;\n",
        "  CREATE TABLE IF NOT EXISTS `prices_coordinates_data` (\n",
        "    `price` int(10) unsigned NOT NULL,\n",
        "    `date_of_transfer` date NOT NULL,\n",
        "    `postcode` varchar(8) COLLATE utf8_bin NOT NULL,\n",
        "    `property_type` varchar(1) COLLATE utf8_bin NOT NULL,\n",
        "    `new_build_flag` varchar(1) COLLATE utf8_bin NOT NULL,\n",
        "    `tenure_type` varchar(1) COLLATE utf8_bin NOT NULL,\n",
        "    `locality` tinytext COLLATE utf8_bin NOT NULL,\n",
        "    `town_city` tinytext COLLATE utf8_bin NOT NULL,\n",
        "    `district` tinytext COLLATE utf8_bin NOT NULL,\n",
        "    `county` tinytext COLLATE utf8_bin NOT NULL,\n",
        "    `country` enum('England', 'Wales', 'Scotland', 'Northern Ireland', 'Channel Islands', 'Isle of Man') NOT NULL,\n",
        "    `latitude` decimal(11,8) NOT NULL,\n",
        "    `longitude` decimal(10,8) NOT NULL,\n",
        "    `db_id` bigint(20) unsigned NOT NULL\n",
        "  ) DEFAULT CHARSET=utf8 COLLATE=utf8_bin AUTO_INCREMENT=1 ;\n",
        "\n",
        "  ```\n",
        "\n",
        "In both cases you will need to perform a join between `pp_data` and `postcode_data` tables. Joining large tables without the right indexes in place will take a long time. You should think and set the right index for an efficient join. Indexing the `pp_data` table should take less than 5 minutes, while it takes less than one minute to index the `postcode_data` table.\n",
        "\n",
        "Note that there is no preference for either approach in the mark scheme.\n",
        "\n",
        "You should use the joined data in your prediction model in Question 3. Exploit the nature of the task to use prices for a particular region in a given period. This means we can select the relevant rows from the database according to that region and period.\n",
        "\n",
        "***After you have populated your database tables and created the functions to access the data you need for Question 3, you will not need to redo any of the previous steps. If at some point you find the AWS database is not responding or taking longer than expected to perform operations, you can have a look at the process list and kill the one are causing problems. If killing the processes does not work, you should reboot the database in the AWS console. Be careful with other database instances if you need to reboot your database. Also, be careful not to delete the database instead of rebooting it. If you delete the database, it is likely you will need to redo all Question 1.***"
      ]
    },
    {
      "cell_type": "code",
      "execution_count": null,
      "id": "Y-lttyzUtSv7",
      "metadata": {
        "id": "Y-lttyzUtSv7"
      },
      "outputs": [],
      "source": [
        "# Write the code you used to join the tables, or the code you used to join on the fly.\n",
        "fynesse.access.create_prices_coordinates_table(pp_database_conn)"
      ]
    },
    {
      "cell_type": "code",
      "execution_count": 52,
      "metadata": {},
      "outputs": [],
      "source": [
        "joined_table_pathnames = fynesse.access.join_all_tables(downloaded_pathnames, postcode_filename, overwrite=False)"
      ]
    },
    {
      "cell_type": "code",
      "execution_count": 53,
      "metadata": {},
      "outputs": [
        {
          "name": "stdout",
          "output_type": "stream",
          "text": [
            "100.0% of files uploadedles uploadedd\r"
          ]
        }
      ],
      "source": [
        "# 10m\n",
        "fynesse.access.upload_files_to_table(pp_database_conn, joined_table_pathnames, 'prices_coordinates_data', ignore_first_row=True)"
      ]
    },
    {
      "cell_type": "code",
      "execution_count": 54,
      "metadata": {},
      "outputs": [],
      "source": [
        "# 9m\n",
        "fynesse.access.setup_prices_coordinates_table(pp_database_conn)"
      ]
    },
    {
      "cell_type": "markdown",
      "id": "df36e5d1",
      "metadata": {
        "id": "df36e5d1"
      },
      "source": [
        "## Question 2. Accessing OpenStreetMap and Assessing the Available Features\n",
        "\n",
        "In question 3 you will be given the task of constructing a prediction system for property price levels at a given location. We expect that knowledge of the local region around the property should be helpful in making those price predictions. To evaluate this we will now look at [OpenStreetMap](https://www.openstreetmap.org) as a data source.\n",
        "\n",
        "The tasks below will guide you in accessing and assessing the OpenStreetMap data. The code you write will eventually be assimilated in your python module, but documentation of what you've included and why should remain in the notebook below.\n",
        "\n",
        "Accessing OpenStreetMap through its API can be done using the python library `osmx`. Using what you have learned about the `osmx` interface in the lectures, write general code for downloading points of interest and other relevant information that you believe may be useful for predicting house prices. Remembering the perspectives we've taken on *data science as debugging*, the remarks we've made when discussing *the data crisis* of the importance of reusability in data analysis, and the techniques we've explored in the labsessions for visualising features and exploring their correlation use the notebook to document your assessment of the OpenStreetMap data as a potential source of data.\n",
        "\n",
        "The knowledge you need to do a first pass through this question will have been taught by end of lab session three (16th November 2021). You will likely want to review your answer as part of *refactoring* your code and analysis pipeline shortly before hand in.\n",
        "\n",
        "You should write reusable code that allows you to explore the characteristics of different points of interest. Looking ahead to question 3 you'll want to incorporate these points of interest in your prediction code.\n",
        "\n",
        "*5 marks*\n"
      ]
    },
    {
      "cell_type": "code",
      "execution_count": 269,
      "id": "042a2863",
      "metadata": {
        "id": "042a2863"
      },
      "outputs": [],
      "source": [
        "# Use this cell and cells below for summarising your analysis and documenting your decision making.\n",
        "\n",
        "# PCA of training dataset\n"
      ]
    },
    {
      "cell_type": "code",
      "execution_count": 270,
      "metadata": {},
      "outputs": [
        {
          "name": "stderr",
          "output_type": "stream",
          "text": [
            "C:\\Users\\86189\\AppData\\Local\\Temp\\ipykernel_12324\\1078233914.py:83: UserWarning: pandas only supports SQLAlchemy connectable (engine/connection) or database string URI or sqlite3 DBAPI2 connection. Other DBAPI2 objects are not tested. Please consider using SQLAlchemy.\n",
            "  return pd.read_sql_query(query, conn)\n"
          ]
        }
      ],
      "source": [
        "from datetime import datetime"
      ]
    },
    {
      "cell_type": "markdown",
      "id": "09a0e365",
      "metadata": {
        "id": "09a0e365"
      },
      "source": [
        "## Question 3. Addressing a Property Price Prediction Question\n",
        "\n",
        "For your final tick, we will be asking you to make house price predictions for a given location, date and property type in the UK. You will provide a function that takes input a latitude and longitude as well as the `property_type` (either type\" of property (either `F` - flat, `S` - semidetached, `D` - detached, `T` - terraced or `O` other). Create this function in the `address.py` file, for example in the form,\n",
        "\n",
        "```\n",
        "def predict_price(latitude, longitude, date, property_type):\n",
        "    \"\"\"Price prediction for UK housing.\"\"\"\n",
        "    pass\n",
        "```\n",
        "\n",
        "We suggest that you use the following approach when building your prediction.\n",
        "\n",
        "1. Select a bounding box around the housing location in latitude and longitude.\n",
        "2. Select a data range around the prediction date.\n",
        "3. Use the data ecosystem you have build above to build a training set from the relevant time period and location in the UK. Include appropriate features from OSM to improve the prediction.\n",
        "4. Train a linear model on the data set you have created.\n",
        "5. Validate the quality of the model.\n",
        "6. Provide a prediction of the price from the model, warning appropriately if your validation indicates the quality of the model is poor.\n",
        "\n",
        "Please note that the quality of predictions is not the main focus of the assignment - we expect to see models that output reasonable predictions and have positive R^2's, but you should not spend too much time on increasing the model's accuracy.\n",
        "\n",
        "The knowledge you need to do a first pass through this question will have been taught by end of lab session four (7th November 2023). You will likely want to review your answer as part of *refactoring* your code shortly before hand in.\n",
        "\n"
      ]
    },
    {
      "cell_type": "code",
      "execution_count": 314,
      "metadata": {},
      "outputs": [
        {
          "name": "stdout",
          "output_type": "stream",
          "text": [
            "                            OLS Regression Results                            \n",
            "==============================================================================\n",
            "Dep. Variable:                      y   R-squared:                       0.373\n",
            "Model:                            OLS   Adj. R-squared:                  0.318\n",
            "Method:                 Least Squares   F-statistic:                     6.796\n",
            "Date:                Tue, 21 Nov 2023   Prob (F-statistic):           8.79e-11\n",
            "Time:                        22:01:13   Log-Likelihood:                -2926.5\n",
            "No. Observations:                 175   AIC:                             5883.\n",
            "Df Residuals:                     160   BIC:                             5930.\n",
            "Df Model:                          14                                         \n",
            "Covariance Type:            nonrobust                                         \n",
            "==============================================================================\n",
            "                 coef    std err          t      P>|t|      [0.025      0.975]\n",
            "------------------------------------------------------------------------------\n",
            "const       1.308e+09    1.7e+09      0.770      0.443   -2.05e+09    4.66e+09\n",
            "x1         -1.358e+04   1.08e+04     -1.255      0.211    -3.5e+04    7795.471\n",
            "x2          2.596e+08    3.4e+08      0.764      0.446   -4.12e+08    9.31e+08\n",
            "x3          2.581e+08    3.4e+08      0.759      0.449   -4.13e+08    9.29e+08\n",
            "x4          2.729e+08    3.4e+08      0.803      0.423   -3.98e+08    9.44e+08\n",
            "x5          2.587e+08    3.4e+08      0.760      0.448   -4.13e+08    9.31e+08\n",
            "x6          2.589e+08    3.4e+08      0.762      0.447   -4.12e+08     9.3e+08\n",
            "x7         -2.787e+07   3.92e+07     -0.711      0.478   -1.05e+08    4.95e+07\n",
            "x8          1.116e+07   7.24e+07      0.154      0.878   -1.32e+08    1.54e+08\n",
            "x9         -3.717e+09   1.76e+10     -0.212      0.833   -3.84e+10     3.1e+10\n",
            "x10         7.094e+08   3.18e+09      0.223      0.824   -5.58e+09    6.99e+09\n",
            "x11         2.342e+10   1.38e+10      1.700      0.091   -3.79e+09    5.06e+10\n",
            "x12        -9.299e+09   2.44e+10     -0.381      0.704   -5.76e+10     3.9e+10\n",
            "x13        -6.137e+10   9.12e+10     -0.673      0.502   -2.42e+11    1.19e+11\n",
            "x14        -2.437e+10   4.75e+10     -0.513      0.609   -1.18e+11    6.94e+10\n",
            "x15         2.388e+10   1.54e+11      0.155      0.877    -2.8e+11    3.28e+11\n",
            "==============================================================================\n",
            "Omnibus:                      223.042   Durbin-Watson:                   1.780\n",
            "Prob(Omnibus):                  0.000   Jarque-Bera (JB):            22192.063\n",
            "Skew:                           4.796   Prob(JB):                         0.00\n",
            "Kurtosis:                      57.327   Cond. No.                     1.52e+20\n",
            "==============================================================================\n",
            "\n",
            "Notes:\n",
            "[1] Standard Errors assume that the covariance matrix of the errors is correctly specified.\n",
            "[2] The smallest eigenvalue is 5.27e-31. This might indicate that there are\n",
            "strong multicollinearity problems or that the design matrix is singular.\n"
          ]
        },
        {
          "data": {
            "text/plain": [
              "9442202.030616283"
            ]
          },
          "execution_count": 314,
          "metadata": {},
          "output_type": "execute_result"
        }
      ],
      "source": [
        "fynesse.assess.predict_price(52.206767, 0.119229, datetime(2021, 1, 1), 'S')"
      ]
    },
    {
      "cell_type": "markdown",
      "id": "eEDpLiW0Zr_L",
      "metadata": {
        "id": "eEDpLiW0Zr_L"
      },
      "source": [
        "## Large Language Models\n",
        "\n",
        "If you used LLMs to generate or fix code in this assignment (recommended), briefly summarise the process and prompts you used. What do you think of the integration of LLMs in the data science pipeline?"
      ]
    },
    {
      "cell_type": "markdown",
      "id": "osdBm1BNaHL1",
      "metadata": {
        "id": "osdBm1BNaHL1"
      },
      "source": [
        "```GIVE YOUR WRITTEN ANSWER HERE```"
      ]
    },
    {
      "cell_type": "markdown",
      "id": "DJDQPmkLldvp",
      "metadata": {
        "id": "DJDQPmkLldvp"
      },
      "source": [
        "### FAQs\n",
        "\n",
        "- Why is my connection to the AWS server intermittent?\n",
        "\n",
        "If you are using Google Colab, online notebooks may throttle your code or time you out. Local Python code is recommended for tasks for large data management in the database.\n",
        "\n",
        "- Why do SQL queries take a long time?\n",
        "\n",
        "Some queries legitimately take a long time, even when done right. We suggest indexing your tables to speed up queries over your database. You can index tables by different columns depending on the queries you want to perform. For example, indexing the tables by `postcode` could speed up the join in Task D. More information regarding indexing in MariaDB is available [here](https://mariadb.com/kb/en/getting-started-with-indexes/).\n",
        "\n",
        "You may also want to consider creating single or multi-column indices on coordinates, or any other properties you use to select data, if that step is taking a long time.\n",
        "\n",
        "If your new queries seem stuck, try running `SHOW FULL PROCESSLIST`, and `KILL` any stuck processes.\n",
        "\n",
        "- Why are table populating processes taking so long?\n",
        "\n",
        "Again populating the database can take long. However, be careful if you are indexing the tables. You should populate data before indexing. Insert operations are impacted by indexes as they are updated with each new row inserted into the table.\n",
        "\n",
        "- Some other questions are answered in [this reddit forum](https://www.reddit.com/r/CST_ADS/) or [this doc](https://docs.google.com/document/d/1GfDROyUW8HVs2eyxmJzKrYGRdVyUiVXzPcDfwOO8wX0/edit?usp=sharing). Feel free to also ask about anything that comes up."
      ]
    }
  ],
  "metadata": {
    "colab": {
      "provenance": []
    },
    "kernelspec": {
      "display_name": "Python 3",
      "language": "python",
      "name": "python3"
    },
    "language_info": {
      "codemirror_mode": {
        "name": "ipython",
        "version": 3
      },
      "file_extension": ".py",
      "mimetype": "text/x-python",
      "name": "python",
      "nbconvert_exporter": "python",
      "pygments_lexer": "ipython3",
      "version": "3.12.0"
    }
  },
  "nbformat": 4,
  "nbformat_minor": 5
}
