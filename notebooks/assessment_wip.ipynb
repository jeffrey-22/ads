{
  "cells": [
    {
      "cell_type": "markdown",
      "id": "d7856d1b",
      "metadata": {
        "id": "d7856d1b"
      },
      "source": [
        "Prediction system will be based on data from the UK Price Paid data available [here](https://www.gov.uk/government/statistical-data-sets/price-paid-data-downloads). By combining this data with the UK Office for National Statistics data on the latitude/longitude of postcodes (available [here](https://www.getthedata.com/open-postcode-geo)) you will have a record of house prices and their approximate latitude/longitude. Due to the size of these data you will use a relational database to handle them.  \n",
        "\n",
        "To make predictions of the house price you will augment your data with information obtained from Open Street Map: an open license source of mapping information. You will use the techniques you have learnt in the course to indentify and incorporate useful features for house price prediction.\n",
        "\n",
        "\n",
        "Alongside your implementation you will provide a short repository overview describing how you have implemented the different parts of the project and where you have placed those parts in your code repository. You will submit your code alongside a version of this notebook that will allow your examiner to understand and reconstruct the thinking behind your analysis. This notebook is structured to help you in creating that description and allow you to understand how we will allocate the marks. You should make use of the Fynesse framework (<https://github.com/lawrennd/fynesse_template>) for structuring your code.\n",
        "\n",
        "Remember the notebook you create should *tell a story*, any code that is not critical to that story can safely be placed into the associated analysis library and imported for use (structured as given in the Fynesse template)\n",
        "\n",
        "The maximum total mark for this assessment is 20. That mark is split into Three Questions below, each worth 5 marks each. Then a final 5 marks will be given for the quality, structure and reusability of the code and analysis you produce giving 20 marks in total. At the end, we would like to know your experience using LLMs in this assignment.\n",
        "\n",
        "### Important Note:\n",
        "\n",
        "*Some tasks in this assignment require you to develop skills for searching for multiple solutions and trying different things. This environment recreates industrial data science and software engineering problems. There is no one right answer.*"
      ]
    },
    {
      "cell_type": "markdown",
      "id": "bb7e7c53",
      "metadata": {
        "id": "bb7e7c53"
      },
      "source": [
        "### Useful Links\n",
        "\n",
        "You may find some of the following links useful when building your system.\n",
        "\n",
        "University instuctions on Security and Privacy with AWS.\n",
        "\n",
        "https://help.uis.cam.ac.uk/service/network-services/hosting-services/AWS/aws-security-privacy\n",
        "\n",
        "Security Rules in AWS\n",
        "\n",
        "https://docs.aws.amazon.com/AmazonRDS/latest/UserGuide/USER_VPC.Scenarios.html#USER_VPC.Scenario4"
      ]
    },
    {
      "cell_type": "code",
      "execution_count": 7,
      "id": "13f71cb7",
      "metadata": {
        "id": "13f71cb7"
      },
      "outputs": [
        {
          "name": "stdout",
          "output_type": "stream",
          "text": [
            "Collecting git+https://github.com/jeffrey-22/ads.git\n",
            "  Cloning https://github.com/jeffrey-22/ads.git to c:\\users\\86189\\appdata\\local\\temp\\pip-req-build-dj4or_vw\n",
            "  Resolved https://github.com/jeffrey-22/ads.git to commit 64135b0a69c7f67eee7677a7a019488b2eaf9887\n",
            "  Installing build dependencies: started\n",
            "  Installing build dependencies: finished with status 'done'\n",
            "  Getting requirements to build wheel: started\n",
            "  Getting requirements to build wheel: finished with status 'done'\n",
            "  Preparing metadata (pyproject.toml): started\n",
            "  Preparing metadata (pyproject.toml): finished with status 'done'\n",
            "Requirement already satisfied: pandas in c:\\users\\86189\\appdata\\local\\programs\\python\\python312\\lib\\site-packages (from fynesse==0.1.0) (2.1.3)\n",
            "Requirement already satisfied: numpy in c:\\users\\86189\\appdata\\local\\programs\\python\\python312\\lib\\site-packages (from fynesse==0.1.0) (1.26.0)\n",
            "Requirement already satisfied: jupyter in c:\\users\\86189\\appdata\\local\\programs\\python\\python312\\lib\\site-packages (from fynesse==0.1.0) (1.0.0)\n",
            "Requirement already satisfied: matplotlib in c:\\users\\86189\\appdata\\local\\programs\\python\\python312\\lib\\site-packages (from fynesse==0.1.0) (3.8.0)\n",
            "Requirement already satisfied: pyyaml in c:\\users\\86189\\appdata\\local\\programs\\python\\python312\\lib\\site-packages (from fynesse==0.1.0) (6.0.1)\n",
            "Requirement already satisfied: notebook in c:\\users\\86189\\appdata\\local\\programs\\python\\python312\\lib\\site-packages (from jupyter->fynesse==0.1.0) (7.0.6)\n",
            "Requirement already satisfied: qtconsole in c:\\users\\86189\\appdata\\local\\programs\\python\\python312\\lib\\site-packages (from jupyter->fynesse==0.1.0) (5.5.0)\n",
            "Requirement already satisfied: jupyter-console in c:\\users\\86189\\appdata\\local\\programs\\python\\python312\\lib\\site-packages (from jupyter->fynesse==0.1.0) (6.6.3)\n",
            "Requirement already satisfied: nbconvert in c:\\users\\86189\\appdata\\local\\programs\\python\\python312\\lib\\site-packages (from jupyter->fynesse==0.1.0) (7.11.0)\n",
            "Requirement already satisfied: ipykernel in c:\\users\\86189\\appdata\\roaming\\python\\python312\\site-packages (from jupyter->fynesse==0.1.0) (6.26.0)\n",
            "Requirement already satisfied: ipywidgets in c:\\users\\86189\\appdata\\local\\programs\\python\\python312\\lib\\site-packages (from jupyter->fynesse==0.1.0) (8.1.1)\n",
            "Requirement already satisfied: contourpy>=1.0.1 in c:\\users\\86189\\appdata\\local\\programs\\python\\python312\\lib\\site-packages (from matplotlib->fynesse==0.1.0) (1.1.1)\n",
            "Requirement already satisfied: cycler>=0.10 in c:\\users\\86189\\appdata\\local\\programs\\python\\python312\\lib\\site-packages (from matplotlib->fynesse==0.1.0) (0.12.1)\n",
            "Requirement already satisfied: fonttools>=4.22.0 in c:\\users\\86189\\appdata\\local\\programs\\python\\python312\\lib\\site-packages (from matplotlib->fynesse==0.1.0) (4.43.1)\n",
            "Requirement already satisfied: kiwisolver>=1.0.1 in c:\\users\\86189\\appdata\\local\\programs\\python\\python312\\lib\\site-packages (from matplotlib->fynesse==0.1.0) (1.4.5)\n",
            "Requirement already satisfied: packaging>=20.0 in c:\\users\\86189\\appdata\\local\\programs\\python\\python312\\lib\\site-packages (from matplotlib->fynesse==0.1.0) (23.2)\n",
            "Requirement already satisfied: pillow>=6.2.0 in c:\\users\\86189\\appdata\\local\\programs\\python\\python312\\lib\\site-packages (from matplotlib->fynesse==0.1.0) (10.0.1)\n",
            "Requirement already satisfied: pyparsing>=2.3.1 in c:\\users\\86189\\appdata\\local\\programs\\python\\python312\\lib\\site-packages (from matplotlib->fynesse==0.1.0) (3.1.1)\n",
            "Requirement already satisfied: python-dateutil>=2.7 in c:\\users\\86189\\appdata\\local\\programs\\python\\python312\\lib\\site-packages (from matplotlib->fynesse==0.1.0) (2.8.2)\n",
            "Requirement already satisfied: pytz>=2020.1 in c:\\users\\86189\\appdata\\local\\programs\\python\\python312\\lib\\site-packages (from pandas->fynesse==0.1.0) (2023.3.post1)\n",
            "Requirement already satisfied: tzdata>=2022.1 in c:\\users\\86189\\appdata\\local\\programs\\python\\python312\\lib\\site-packages (from pandas->fynesse==0.1.0) (2023.3)\n",
            "Requirement already satisfied: six>=1.5 in c:\\users\\86189\\appdata\\local\\programs\\python\\python312\\lib\\site-packages (from python-dateutil>=2.7->matplotlib->fynesse==0.1.0) (1.16.0)\n",
            "Requirement already satisfied: comm>=0.1.1 in c:\\users\\86189\\appdata\\roaming\\python\\python312\\site-packages (from ipykernel->jupyter->fynesse==0.1.0) (0.2.0)\n",
            "Requirement already satisfied: debugpy>=1.6.5 in c:\\users\\86189\\appdata\\roaming\\python\\python312\\site-packages (from ipykernel->jupyter->fynesse==0.1.0) (1.8.0)\n",
            "Requirement already satisfied: ipython>=7.23.1 in c:\\users\\86189\\appdata\\roaming\\python\\python312\\site-packages (from ipykernel->jupyter->fynesse==0.1.0) (8.17.2)\n",
            "Requirement already satisfied: jupyter-client>=6.1.12 in c:\\users\\86189\\appdata\\roaming\\python\\python312\\site-packages (from ipykernel->jupyter->fynesse==0.1.0) (8.6.0)\n",
            "Requirement already satisfied: jupyter-core!=5.0.*,>=4.12 in c:\\users\\86189\\appdata\\roaming\\python\\python312\\site-packages (from ipykernel->jupyter->fynesse==0.1.0) (5.5.0)\n",
            "Requirement already satisfied: matplotlib-inline>=0.1 in c:\\users\\86189\\appdata\\roaming\\python\\python312\\site-packages (from ipykernel->jupyter->fynesse==0.1.0) (0.1.6)\n",
            "Requirement already satisfied: nest-asyncio in c:\\users\\86189\\appdata\\roaming\\python\\python312\\site-packages (from ipykernel->jupyter->fynesse==0.1.0) (1.5.8)\n",
            "Requirement already satisfied: psutil in c:\\users\\86189\\appdata\\roaming\\python\\python312\\site-packages (from ipykernel->jupyter->fynesse==0.1.0) (5.9.6)\n",
            "Requirement already satisfied: pyzmq>=20 in c:\\users\\86189\\appdata\\roaming\\python\\python312\\site-packages (from ipykernel->jupyter->fynesse==0.1.0) (25.1.1)\n",
            "Requirement already satisfied: tornado>=6.1 in c:\\users\\86189\\appdata\\roaming\\python\\python312\\site-packages (from ipykernel->jupyter->fynesse==0.1.0) (6.3.3)\n",
            "Requirement already satisfied: traitlets>=5.4.0 in c:\\users\\86189\\appdata\\roaming\\python\\python312\\site-packages (from ipykernel->jupyter->fynesse==0.1.0) (5.13.0)\n",
            "Requirement already satisfied: widgetsnbextension~=4.0.9 in c:\\users\\86189\\appdata\\local\\programs\\python\\python312\\lib\\site-packages (from ipywidgets->jupyter->fynesse==0.1.0) (4.0.9)\n",
            "Requirement already satisfied: jupyterlab-widgets~=3.0.9 in c:\\users\\86189\\appdata\\local\\programs\\python\\python312\\lib\\site-packages (from ipywidgets->jupyter->fynesse==0.1.0) (3.0.9)\n",
            "Requirement already satisfied: prompt-toolkit>=3.0.30 in c:\\users\\86189\\appdata\\roaming\\python\\python312\\site-packages (from jupyter-console->jupyter->fynesse==0.1.0) (3.0.41)\n",
            "Requirement already satisfied: pygments in c:\\users\\86189\\appdata\\roaming\\python\\python312\\site-packages (from jupyter-console->jupyter->fynesse==0.1.0) (2.16.1)\n",
            "Requirement already satisfied: beautifulsoup4 in c:\\users\\86189\\appdata\\local\\programs\\python\\python312\\lib\\site-packages (from nbconvert->jupyter->fynesse==0.1.0) (4.12.2)\n",
            "Requirement already satisfied: bleach!=5.0.0 in c:\\users\\86189\\appdata\\local\\programs\\python\\python312\\lib\\site-packages (from nbconvert->jupyter->fynesse==0.1.0) (6.1.0)\n",
            "Requirement already satisfied: defusedxml in c:\\users\\86189\\appdata\\local\\programs\\python\\python312\\lib\\site-packages (from nbconvert->jupyter->fynesse==0.1.0) (0.7.1)\n",
            "Requirement already satisfied: jinja2>=3.0 in c:\\users\\86189\\appdata\\local\\programs\\python\\python312\\lib\\site-packages (from nbconvert->jupyter->fynesse==0.1.0) (3.1.2)\n",
            "Requirement already satisfied: jupyterlab-pygments in c:\\users\\86189\\appdata\\local\\programs\\python\\python312\\lib\\site-packages (from nbconvert->jupyter->fynesse==0.1.0) (0.2.2)\n",
            "Requirement already satisfied: markupsafe>=2.0 in c:\\users\\86189\\appdata\\local\\programs\\python\\python312\\lib\\site-packages (from nbconvert->jupyter->fynesse==0.1.0) (2.1.3)\n",
            "Requirement already satisfied: mistune<4,>=2.0.3 in c:\\users\\86189\\appdata\\local\\programs\\python\\python312\\lib\\site-packages (from nbconvert->jupyter->fynesse==0.1.0) (3.0.2)\n",
            "Requirement already satisfied: nbclient>=0.5.0 in c:\\users\\86189\\appdata\\local\\programs\\python\\python312\\lib\\site-packages (from nbconvert->jupyter->fynesse==0.1.0) (0.9.0)\n",
            "Requirement already satisfied: nbformat>=5.7 in c:\\users\\86189\\appdata\\local\\programs\\python\\python312\\lib\\site-packages (from nbconvert->jupyter->fynesse==0.1.0) (5.9.2)\n",
            "Requirement already satisfied: pandocfilters>=1.4.1 in c:\\users\\86189\\appdata\\local\\programs\\python\\python312\\lib\\site-packages (from nbconvert->jupyter->fynesse==0.1.0) (1.5.0)\n",
            "Requirement already satisfied: tinycss2 in c:\\users\\86189\\appdata\\local\\programs\\python\\python312\\lib\\site-packages (from nbconvert->jupyter->fynesse==0.1.0) (1.2.1)\n",
            "Requirement already satisfied: jupyter-server<3,>=2.4.0 in c:\\users\\86189\\appdata\\local\\programs\\python\\python312\\lib\\site-packages (from notebook->jupyter->fynesse==0.1.0) (2.10.0)\n",
            "Requirement already satisfied: jupyterlab-server<3,>=2.22.1 in c:\\users\\86189\\appdata\\local\\programs\\python\\python312\\lib\\site-packages (from notebook->jupyter->fynesse==0.1.0) (2.25.1)\n",
            "Requirement already satisfied: jupyterlab<5,>=4.0.2 in c:\\users\\86189\\appdata\\local\\programs\\python\\python312\\lib\\site-packages (from notebook->jupyter->fynesse==0.1.0) (4.0.8)\n",
            "Requirement already satisfied: notebook-shim<0.3,>=0.2 in c:\\users\\86189\\appdata\\local\\programs\\python\\python312\\lib\\site-packages (from notebook->jupyter->fynesse==0.1.0) (0.2.3)\n",
            "Requirement already satisfied: qtpy>=2.4.0 in c:\\users\\86189\\appdata\\local\\programs\\python\\python312\\lib\\site-packages (from qtconsole->jupyter->fynesse==0.1.0) (2.4.1)\n",
            "Requirement already satisfied: webencodings in c:\\users\\86189\\appdata\\local\\programs\\python\\python312\\lib\\site-packages (from bleach!=5.0.0->nbconvert->jupyter->fynesse==0.1.0) (0.5.1)\n",
            "Requirement already satisfied: decorator in c:\\users\\86189\\appdata\\roaming\\python\\python312\\site-packages (from ipython>=7.23.1->ipykernel->jupyter->fynesse==0.1.0) (5.1.1)\n",
            "Requirement already satisfied: jedi>=0.16 in c:\\users\\86189\\appdata\\roaming\\python\\python312\\site-packages (from ipython>=7.23.1->ipykernel->jupyter->fynesse==0.1.0) (0.19.1)\n",
            "Requirement already satisfied: stack-data in c:\\users\\86189\\appdata\\roaming\\python\\python312\\site-packages (from ipython>=7.23.1->ipykernel->jupyter->fynesse==0.1.0) (0.6.3)\n",
            "Requirement already satisfied: colorama in c:\\users\\86189\\appdata\\local\\programs\\python\\python312\\lib\\site-packages (from ipython>=7.23.1->ipykernel->jupyter->fynesse==0.1.0) (0.4.6)\n",
            "Requirement already satisfied: platformdirs>=2.5 in c:\\users\\86189\\appdata\\roaming\\python\\python312\\site-packages (from jupyter-core!=5.0.*,>=4.12->ipykernel->jupyter->fynesse==0.1.0) (4.0.0)\n",
            "Requirement already satisfied: pywin32>=300 in c:\\users\\86189\\appdata\\roaming\\python\\python312\\site-packages (from jupyter-core!=5.0.*,>=4.12->ipykernel->jupyter->fynesse==0.1.0) (306)\n",
            "Requirement already satisfied: anyio>=3.1.0 in c:\\users\\86189\\appdata\\local\\programs\\python\\python312\\lib\\site-packages (from jupyter-server<3,>=2.4.0->notebook->jupyter->fynesse==0.1.0) (4.0.0)\n",
            "Requirement already satisfied: argon2-cffi in c:\\users\\86189\\appdata\\local\\programs\\python\\python312\\lib\\site-packages (from jupyter-server<3,>=2.4.0->notebook->jupyter->fynesse==0.1.0) (23.1.0)\n",
            "Requirement already satisfied: jupyter-events>=0.6.0 in c:\\users\\86189\\appdata\\local\\programs\\python\\python312\\lib\\site-packages (from jupyter-server<3,>=2.4.0->notebook->jupyter->fynesse==0.1.0) (0.9.0)\n",
            "Requirement already satisfied: jupyter-server-terminals in c:\\users\\86189\\appdata\\local\\programs\\python\\python312\\lib\\site-packages (from jupyter-server<3,>=2.4.0->notebook->jupyter->fynesse==0.1.0) (0.4.4)\n",
            "Requirement already satisfied: overrides in c:\\users\\86189\\appdata\\local\\programs\\python\\python312\\lib\\site-packages (from jupyter-server<3,>=2.4.0->notebook->jupyter->fynesse==0.1.0) (7.4.0)\n",
            "Requirement already satisfied: prometheus-client in c:\\users\\86189\\appdata\\local\\programs\\python\\python312\\lib\\site-packages (from jupyter-server<3,>=2.4.0->notebook->jupyter->fynesse==0.1.0) (0.18.0)\n",
            "Requirement already satisfied: pywinpty in c:\\users\\86189\\appdata\\local\\programs\\python\\python312\\lib\\site-packages (from jupyter-server<3,>=2.4.0->notebook->jupyter->fynesse==0.1.0) (2.0.12)\n",
            "Requirement already satisfied: send2trash>=1.8.2 in c:\\users\\86189\\appdata\\local\\programs\\python\\python312\\lib\\site-packages (from jupyter-server<3,>=2.4.0->notebook->jupyter->fynesse==0.1.0) (1.8.2)\n",
            "Requirement already satisfied: terminado>=0.8.3 in c:\\users\\86189\\appdata\\local\\programs\\python\\python312\\lib\\site-packages (from jupyter-server<3,>=2.4.0->notebook->jupyter->fynesse==0.1.0) (0.18.0)\n",
            "Requirement already satisfied: websocket-client in c:\\users\\86189\\appdata\\local\\programs\\python\\python312\\lib\\site-packages (from jupyter-server<3,>=2.4.0->notebook->jupyter->fynesse==0.1.0) (1.6.4)\n",
            "Requirement already satisfied: async-lru>=1.0.0 in c:\\users\\86189\\appdata\\local\\programs\\python\\python312\\lib\\site-packages (from jupyterlab<5,>=4.0.2->notebook->jupyter->fynesse==0.1.0) (2.0.4)\n",
            "Requirement already satisfied: jupyter-lsp>=2.0.0 in c:\\users\\86189\\appdata\\local\\programs\\python\\python312\\lib\\site-packages (from jupyterlab<5,>=4.0.2->notebook->jupyter->fynesse==0.1.0) (2.2.0)\n",
            "Requirement already satisfied: babel>=2.10 in c:\\users\\86189\\appdata\\local\\programs\\python\\python312\\lib\\site-packages (from jupyterlab-server<3,>=2.22.1->notebook->jupyter->fynesse==0.1.0) (2.13.1)\n",
            "Requirement already satisfied: json5>=0.9.0 in c:\\users\\86189\\appdata\\local\\programs\\python\\python312\\lib\\site-packages (from jupyterlab-server<3,>=2.22.1->notebook->jupyter->fynesse==0.1.0) (0.9.14)\n",
            "Requirement already satisfied: jsonschema>=4.18.0 in c:\\users\\86189\\appdata\\local\\programs\\python\\python312\\lib\\site-packages (from jupyterlab-server<3,>=2.22.1->notebook->jupyter->fynesse==0.1.0) (4.19.2)\n",
            "Requirement already satisfied: requests>=2.31 in c:\\users\\86189\\appdata\\local\\programs\\python\\python312\\lib\\site-packages (from jupyterlab-server<3,>=2.22.1->notebook->jupyter->fynesse==0.1.0) (2.31.0)\n",
            "Requirement already satisfied: fastjsonschema in c:\\users\\86189\\appdata\\local\\programs\\python\\python312\\lib\\site-packages (from nbformat>=5.7->nbconvert->jupyter->fynesse==0.1.0) (2.18.1)\n",
            "Requirement already satisfied: wcwidth in c:\\users\\86189\\appdata\\roaming\\python\\python312\\site-packages (from prompt-toolkit>=3.0.30->jupyter-console->jupyter->fynesse==0.1.0) (0.2.10)\n",
            "Requirement already satisfied: soupsieve>1.2 in c:\\users\\86189\\appdata\\local\\programs\\python\\python312\\lib\\site-packages (from beautifulsoup4->nbconvert->jupyter->fynesse==0.1.0) (2.5)\n",
            "Requirement already satisfied: idna>=2.8 in c:\\users\\86189\\appdata\\local\\programs\\python\\python312\\lib\\site-packages (from anyio>=3.1.0->jupyter-server<3,>=2.4.0->notebook->jupyter->fynesse==0.1.0) (3.4)\n",
            "Requirement already satisfied: sniffio>=1.1 in c:\\users\\86189\\appdata\\local\\programs\\python\\python312\\lib\\site-packages (from anyio>=3.1.0->jupyter-server<3,>=2.4.0->notebook->jupyter->fynesse==0.1.0) (1.3.0)\n",
            "Requirement already satisfied: setuptools in c:\\users\\86189\\appdata\\local\\programs\\python\\python312\\lib\\site-packages (from babel>=2.10->jupyterlab-server<3,>=2.22.1->notebook->jupyter->fynesse==0.1.0) (68.2.2)\n",
            "Requirement already satisfied: parso<0.9.0,>=0.8.3 in c:\\users\\86189\\appdata\\roaming\\python\\python312\\site-packages (from jedi>=0.16->ipython>=7.23.1->ipykernel->jupyter->fynesse==0.1.0) (0.8.3)\n",
            "Requirement already satisfied: attrs>=22.2.0 in c:\\users\\86189\\appdata\\local\\programs\\python\\python312\\lib\\site-packages (from jsonschema>=4.18.0->jupyterlab-server<3,>=2.22.1->notebook->jupyter->fynesse==0.1.0) (23.1.0)\n",
            "Requirement already satisfied: jsonschema-specifications>=2023.03.6 in c:\\users\\86189\\appdata\\local\\programs\\python\\python312\\lib\\site-packages (from jsonschema>=4.18.0->jupyterlab-server<3,>=2.22.1->notebook->jupyter->fynesse==0.1.0) (2023.7.1)\n",
            "Requirement already satisfied: referencing>=0.28.4 in c:\\users\\86189\\appdata\\local\\programs\\python\\python312\\lib\\site-packages (from jsonschema>=4.18.0->jupyterlab-server<3,>=2.22.1->notebook->jupyter->fynesse==0.1.0) (0.30.2)\n",
            "Requirement already satisfied: rpds-py>=0.7.1 in c:\\users\\86189\\appdata\\local\\programs\\python\\python312\\lib\\site-packages (from jsonschema>=4.18.0->jupyterlab-server<3,>=2.22.1->notebook->jupyter->fynesse==0.1.0) (0.12.0)\n",
            "Requirement already satisfied: python-json-logger>=2.0.4 in c:\\users\\86189\\appdata\\local\\programs\\python\\python312\\lib\\site-packages (from jupyter-events>=0.6.0->jupyter-server<3,>=2.4.0->notebook->jupyter->fynesse==0.1.0) (2.0.7)\n",
            "Requirement already satisfied: rfc3339-validator in c:\\users\\86189\\appdata\\local\\programs\\python\\python312\\lib\\site-packages (from jupyter-events>=0.6.0->jupyter-server<3,>=2.4.0->notebook->jupyter->fynesse==0.1.0) (0.1.4)\n",
            "Requirement already satisfied: rfc3986-validator>=0.1.1 in c:\\users\\86189\\appdata\\local\\programs\\python\\python312\\lib\\site-packages (from jupyter-events>=0.6.0->jupyter-server<3,>=2.4.0->notebook->jupyter->fynesse==0.1.0) (0.1.1)\n",
            "Requirement already satisfied: charset-normalizer<4,>=2 in c:\\users\\86189\\appdata\\local\\programs\\python\\python312\\lib\\site-packages (from requests>=2.31->jupyterlab-server<3,>=2.22.1->notebook->jupyter->fynesse==0.1.0) (3.3.2)\n",
            "Requirement already satisfied: urllib3<3,>=1.21.1 in c:\\users\\86189\\appdata\\local\\programs\\python\\python312\\lib\\site-packages (from requests>=2.31->jupyterlab-server<3,>=2.22.1->notebook->jupyter->fynesse==0.1.0) (2.1.0)\n",
            "Requirement already satisfied: certifi>=2017.4.17 in c:\\users\\86189\\appdata\\local\\programs\\python\\python312\\lib\\site-packages (from requests>=2.31->jupyterlab-server<3,>=2.22.1->notebook->jupyter->fynesse==0.1.0) (2023.7.22)\n",
            "Requirement already satisfied: argon2-cffi-bindings in c:\\users\\86189\\appdata\\local\\programs\\python\\python312\\lib\\site-packages (from argon2-cffi->jupyter-server<3,>=2.4.0->notebook->jupyter->fynesse==0.1.0) (21.2.0)\n",
            "Requirement already satisfied: executing>=1.2.0 in c:\\users\\86189\\appdata\\roaming\\python\\python312\\site-packages (from stack-data->ipython>=7.23.1->ipykernel->jupyter->fynesse==0.1.0) (2.0.1)\n",
            "Requirement already satisfied: asttokens>=2.1.0 in c:\\users\\86189\\appdata\\roaming\\python\\python312\\site-packages (from stack-data->ipython>=7.23.1->ipykernel->jupyter->fynesse==0.1.0) (2.4.1)\n",
            "Requirement already satisfied: pure-eval in c:\\users\\86189\\appdata\\roaming\\python\\python312\\site-packages (from stack-data->ipython>=7.23.1->ipykernel->jupyter->fynesse==0.1.0) (0.2.2)\n",
            "Requirement already satisfied: fqdn in c:\\users\\86189\\appdata\\local\\programs\\python\\python312\\lib\\site-packages (from jsonschema[format-nongpl]>=4.18.0->jupyter-events>=0.6.0->jupyter-server<3,>=2.4.0->notebook->jupyter->fynesse==0.1.0) (1.5.1)\n",
            "Requirement already satisfied: isoduration in c:\\users\\86189\\appdata\\local\\programs\\python\\python312\\lib\\site-packages (from jsonschema[format-nongpl]>=4.18.0->jupyter-events>=0.6.0->jupyter-server<3,>=2.4.0->notebook->jupyter->fynesse==0.1.0) (20.11.0)\n",
            "Requirement already satisfied: jsonpointer>1.13 in c:\\users\\86189\\appdata\\local\\programs\\python\\python312\\lib\\site-packages (from jsonschema[format-nongpl]>=4.18.0->jupyter-events>=0.6.0->jupyter-server<3,>=2.4.0->notebook->jupyter->fynesse==0.1.0) (2.4)\n",
            "Requirement already satisfied: uri-template in c:\\users\\86189\\appdata\\local\\programs\\python\\python312\\lib\\site-packages (from jsonschema[format-nongpl]>=4.18.0->jupyter-events>=0.6.0->jupyter-server<3,>=2.4.0->notebook->jupyter->fynesse==0.1.0) (1.3.0)\n",
            "Requirement already satisfied: webcolors>=1.11 in c:\\users\\86189\\appdata\\local\\programs\\python\\python312\\lib\\site-packages (from jsonschema[format-nongpl]>=4.18.0->jupyter-events>=0.6.0->jupyter-server<3,>=2.4.0->notebook->jupyter->fynesse==0.1.0) (1.13)\n",
            "Requirement already satisfied: cffi>=1.0.1 in c:\\users\\86189\\appdata\\local\\programs\\python\\python312\\lib\\site-packages (from argon2-cffi-bindings->argon2-cffi->jupyter-server<3,>=2.4.0->notebook->jupyter->fynesse==0.1.0) (1.16.0)\n",
            "Requirement already satisfied: pycparser in c:\\users\\86189\\appdata\\local\\programs\\python\\python312\\lib\\site-packages (from cffi>=1.0.1->argon2-cffi-bindings->argon2-cffi->jupyter-server<3,>=2.4.0->notebook->jupyter->fynesse==0.1.0) (2.21)\n",
            "Requirement already satisfied: arrow>=0.15.0 in c:\\users\\86189\\appdata\\local\\programs\\python\\python312\\lib\\site-packages (from isoduration->jsonschema[format-nongpl]>=4.18.0->jupyter-events>=0.6.0->jupyter-server<3,>=2.4.0->notebook->jupyter->fynesse==0.1.0) (1.3.0)\n",
            "Requirement already satisfied: types-python-dateutil>=2.8.10 in c:\\users\\86189\\appdata\\local\\programs\\python\\python312\\lib\\site-packages (from arrow>=0.15.0->isoduration->jsonschema[format-nongpl]>=4.18.0->jupyter-events>=0.6.0->jupyter-server<3,>=2.4.0->notebook->jupyter->fynesse==0.1.0) (2.8.19.14)\n",
            "Building wheels for collected packages: fynesse\n",
            "  Building wheel for fynesse (pyproject.toml): started\n",
            "  Building wheel for fynesse (pyproject.toml): finished with status 'done'\n",
            "  Created wheel for fynesse: filename=fynesse-0.1.0-py3-none-any.whl size=5989 sha256=f7d18b8d8cf13b44d6e6569707b361c9f69b0baf9c206c7aa99f692287c24fff\n",
            "  Stored in directory: C:\\Users\\86189\\AppData\\Local\\Temp\\pip-ephem-wheel-cache-k1rmv992\\wheels\\38\\77\\18\\c5a4cb49b4a82b5f8ed392ba72ede299e17042437cb6cf7f59\n",
            "Successfully built fynesse\n",
            "Installing collected packages: fynesse\n",
            "  Attempting uninstall: fynesse\n",
            "    Found existing installation: fynesse 0.1.0\n",
            "    Uninstalling fynesse-0.1.0:\n",
            "      Successfully uninstalled fynesse-0.1.0\n",
            "Successfully installed fynesse-0.1.0\n",
            "Note: you may need to restart the kernel to use updated packages.\n"
          ]
        },
        {
          "name": "stderr",
          "output_type": "stream",
          "text": [
            "  Running command git clone --filter=blob:none --quiet https://github.com/jeffrey-22/ads.git 'C:\\Users\\86189\\AppData\\Local\\Temp\\pip-req-build-dj4or_vw'\n"
          ]
        }
      ],
      "source": [
        "# Install your library here, for example the fynesse template\n",
        "# is set up to be pip installable\n",
        "%pip install git+https://github.com/jeffrey-22/ads.git\n",
        "import fynesse"
      ]
    },
    {
      "cell_type": "markdown",
      "id": "26533cf6",
      "metadata": {
        "id": "26533cf6"
      },
      "source": [
        "## Question 1. Accessing a Database of House Prices, Latitudes and Longitudes\n",
        "\n",
        "The UK price paid data for housing dates back to 1995 and contains millions of transactions. The size of the data makes it unwieldy to manipulate directly in python frameworks such as `pandas`. As a result we will host the data in a *relational database*.\n",
        "\n",
        "Using the following ideas.\n",
        "\n",
        "1. A cloud hosted database (such as MariaDB hosted on the AWS RDS service).\n",
        "2. The SQL language wrapped in appropriately structured python code.\n",
        "3. Joining of two databases.\n",
        "\n",
        "You will construct a database containing tables that contain all house prices, latitudes and longitudes from the UK house price data base since 1995.\n",
        "\n",
        "You will likely find the following resources helpful.\n",
        "\n",
        "1. Lecture 1, 2 and 3.\n",
        "2. Lab class 1 and 2.\n",
        "3. The UK Price Paid data for houses: <https://www.gov.uk/government/statistical-data-sets/price-paid-data-downloads>\n",
        "4. The UK ONS Data base of postcode latitude and longitudes:  <https://www.getthedata.com/open-postcode-geo>\n",
        "\n",
        "Below we provide codeboxes and hints to help you develop your answer.\n",
        "\n",
        "### Important Notes:\n",
        "\n",
        "*The main knowledge you need to do a first pass through this question will have been taught by the end of Lab Session 2 (31st October 2023). You will likely want to review your answer as part of **refactoring** your code  and analysis pipeline shortly before hand in.*\n",
        "\n",
        "*We recommend doing Question 1 as early as possible to avoid being blocked from important work given that uploading the data can take long.*\n",
        "\n",
        "*If you encounter problems with the online notebook (e.g., interrupted connections with the AWS server), you can use a local IDE to work in your machine.*\n",
        "\n",
        "*5 Marks*"
      ]
    },
    {
      "cell_type": "markdown",
      "id": "fd689312",
      "metadata": {
        "id": "fd689312"
      },
      "source": [
        "### Task A\n",
        "\n",
        "Set up the database. You'll need to set up a database on AWS. You were guided in how to do this in the lab sessions. You should be able to use the same database instance you created in the lab, or you can delete that and start with a fresh instance. You'll remember from the lab that the database requires credentials (username, password) to access. It's good practice to store those credentials *outside* the notebook so you don't accidentally share them by e.g. checking code into a repository.\n",
        "  \n",
        "Call the database you use for this assessment `property_prices`.\n",
        "  "
      ]
    },
    {
      "cell_type": "code",
      "execution_count": 10,
      "id": "feaf09b9",
      "metadata": {
        "id": "feaf09b9"
      },
      "outputs": [],
      "source": [
        "# Write code for requesting and storing credentials (username, password) here.\n",
        "import yaml\n",
        "with open(\"../secret_tokens.yaml\") as file:\n",
        "  database_details = yaml.safe_load(file)\n",
        "database_url = database_details[\"database_url\"]\n",
        "database_port = database_details[\"database_port\"]\n",
        "database_username = database_details[\"database_username\"]\n",
        "database_password = database_details[\"database_password\"]"
      ]
    },
    {
      "cell_type": "code",
      "execution_count": null,
      "id": "036c419d",
      "metadata": {
        "id": "036c419d"
      },
      "outputs": [],
      "source": [
        "# Write any other setup code you need for setting up database access here.\n",
        "\n"
      ]
    },
    {
      "cell_type": "markdown",
      "id": "33c7237f",
      "metadata": {
        "id": "33c7237f"
      },
      "source": [
        "### Task B\n",
        "\n",
        "Create a database table called `pp_data` containing all the UK Price Paid data from the [gov.uk site](https://www.gov.uk/government/statistical-data-sets/price-paid-data-downloads). You'll need to prepare a new table to receive the data and upload the UK Price Paid data to your database instance. The total data is over 3 gigabytes in size. We suggest that rather than downloading the full data in CSV format, you use the fact that they have split the data into years and into different parts per year. For example, the first part of the data for 2018 is stored at <http://prod.publicdata.landregistry.gov.uk.s3-website-eu-west-1.amazonaws.com/pp-2018-part1.csv>. Each of these files is less than 100MB and can be downloaded very quickly to local disk, then uploaded using\n",
        "\n",
        "\n",
        "```\n",
        "LOAD DATA LOCAL INFILE 'filename' INTO TABLE `table_name`\n",
        "FIELDS TERMINATED BY ',' OPTIONALLY ENCLOSED by '\"'\n",
        "LINES STARTING BY '' TERMINATED BY '\\n';\n",
        "```\n",
        "*Note* this command should be wrapped and placed in an appropriately structured python module.\n",
        "\n",
        "Each 'data part' should be downloadable from the `gov.uk` site. It should take around 5 minutes to download the whole dataset. By looping across the years and different parts, you should be able to robustly upload this large data set to your database instance in around 15 minutes. You should get a table with 28'258,161 rows. ***Note: A select count of the table can take more than half an hour.***\n",
        "\n",
        "You may find the following schema useful in the creation of your table:\n",
        "\n",
        "```\n",
        "--\n",
        "-- Table structure for table `pp_data`\n",
        "--\n",
        "DROP TABLE IF EXISTS `pp_data`;\n",
        "CREATE TABLE IF NOT EXISTS `pp_data` (\n",
        "  `transaction_unique_identifier` tinytext COLLATE utf8_bin NOT NULL,\n",
        "  `price` int(10) unsigned NOT NULL,\n",
        "  `date_of_transfer` date NOT NULL,\n",
        "  `postcode` varchar(8) COLLATE utf8_bin NOT NULL,\n",
        "  `property_type` varchar(1) COLLATE utf8_bin NOT NULL,\n",
        "  `new_build_flag` varchar(1) COLLATE utf8_bin NOT NULL,\n",
        "  `tenure_type` varchar(1) COLLATE utf8_bin NOT NULL,\n",
        "  `primary_addressable_object_name` tinytext COLLATE utf8_bin NOT NULL,\n",
        "  `secondary_addressable_object_name` tinytext COLLATE utf8_bin NOT NULL,\n",
        "  `street` tinytext COLLATE utf8_bin NOT NULL,\n",
        "  `locality` tinytext COLLATE utf8_bin NOT NULL,\n",
        "  `town_city` tinytext COLLATE utf8_bin NOT NULL,\n",
        "  `district` tinytext COLLATE utf8_bin NOT NULL,\n",
        "  `county` tinytext COLLATE utf8_bin NOT NULL,\n",
        "  `ppd_category_type` varchar(2) COLLATE utf8_bin NOT NULL,\n",
        "  `record_status` varchar(2) COLLATE utf8_bin NOT NULL,\n",
        "  `db_id` bigint(20) unsigned NOT NULL\n",
        ") DEFAULT CHARSET=utf8 COLLATE=utf8_bin AUTO_INCREMENT=1 ;\n",
        "```\n",
        "This schema is written by Dale Potter and can be found on Github here: <https://github.com/dalepotter/uk_property_price_data/blob/master/create_db.sql>\n",
        "\n",
        "You may also find it helpful to set up the following primary key to the `pp_data` table. This should be done before uploading your data.\n",
        "\n",
        "```\n",
        "--\n",
        "-- Primary key for table `pp_data`\n",
        "--\n",
        "ALTER TABLE `pp_data`\n",
        "ADD PRIMARY KEY (`db_id`);\n",
        "\n",
        "ALTER TABLE `pp_data`\n",
        "MODIFY db_id bigint(20) unsigned NOT NULL AUTO_INCREMENT, AUTO_INCREMENT=1;\n",
        "```"
      ]
    },
    {
      "cell_type": "markdown",
      "id": "e789b174",
      "metadata": {
        "id": "e789b174"
      },
      "source": [
        "In the box below, briefly describe what the schema is doing."
      ]
    },
    {
      "cell_type": "markdown",
      "id": "d7d9d674",
      "metadata": {
        "id": "d7d9d674"
      },
      "source": [
        "```GIVE YOUR WRITTEN ANSWER HERE```"
      ]
    },
    {
      "cell_type": "code",
      "execution_count": null,
      "id": "92da8c96",
      "metadata": {
        "id": "92da8c96"
      },
      "outputs": [],
      "source": [
        "# Write the code you need for creating the table, downloading and uploading the data here. You can use as many code blocks as you need."
      ]
    },
    {
      "cell_type": "markdown",
      "id": "bb9ece66",
      "metadata": {
        "id": "bb9ece66"
      },
      "source": [
        "### Task C\n",
        "\n",
        "Create a database table called `postcode_data` containing the ONS Postcode information. <GetTheData.com> has organised data derived from the UK Office for National Statistics into a convenient CSV file. You can find details [here](https://www.getthedata.com/open-postcode-geo).\n",
        "\n",
        "\n",
        "The data you need can be found at this url: <https://www.getthedata.com/downloads/open_postcode_geo.csv.zip>. It will need to be unzipped before use. Downloading and unzipping the data should not take more than 10 seconds.\n",
        "\n",
        "You may find the following schema useful for the postcode data (developed by Christian and Neil)\n",
        "\n",
        "```\n",
        "USE `property_prices`;\n",
        "--\n",
        "-- Table structure for table `postcode_data`\n",
        "--\n",
        "DROP TABLE IF EXISTS `postcode_data`;\n",
        "CREATE TABLE IF NOT EXISTS `postcode_data` (\n",
        "  `postcode` varchar(8) COLLATE utf8_bin NOT NULL,\n",
        "  `status` enum('live','terminated') NOT NULL,\n",
        "  `usertype` enum('small', 'large') NOT NULL,\n",
        "  `easting` int unsigned,\n",
        "  `northing` int unsigned,\n",
        "  `positional_quality_indicator` int NOT NULL,\n",
        "  `country` enum('England', 'Wales', 'Scotland', 'Northern Ireland', 'Channel Islands', 'Isle of Man') NOT NULL,\n",
        "  `latitude` decimal(11,8) NOT NULL,\n",
        "  `longitude` decimal(10,8) NOT NULL,\n",
        "  `postcode_no_space` tinytext COLLATE utf8_bin NOT NULL,\n",
        "  `postcode_fixed_width_seven` varchar(7) COLLATE utf8_bin NOT NULL,\n",
        "  `postcode_fixed_width_eight` varchar(8) COLLATE utf8_bin NOT NULL,\n",
        "  `postcode_area` varchar(2) COLLATE utf8_bin NOT NULL,\n",
        "  `postcode_district` varchar(4) COLLATE utf8_bin NOT NULL,\n",
        "  `postcode_sector` varchar(6) COLLATE utf8_bin NOT NULL,\n",
        "  `outcode` varchar(4) COLLATE utf8_bin NOT NULL,\n",
        "  `incode` varchar(3)  COLLATE utf8_bin NOT NULL,\n",
        "  `db_id` bigint(20) unsigned NOT NULL\n",
        ") DEFAULT CHARSET=utf8 COLLATE=utf8_bin;\n",
        "```\n",
        "\n",
        "And again you'll want to set up a primary key for the new table.\n",
        "\n",
        "```\n",
        "ALTER TABLE `postcode_data`\n",
        "ADD PRIMARY KEY (`db_id`);\n",
        "\n",
        "ALTER TABLE `postcode_data`\n",
        "MODIFY `db_id` bigint(20) unsigned NOT NULL AUTO_INCREMENT,AUTO_INCREMENT=1;\n",
        "```\n",
        "\n",
        "And you can load the CSV file into the table using this command.\n",
        "\n",
        "```\n",
        "LOAD DATA LOCAL INFILE 'open_postcode_geo.csv' INTO TABLE `postcode_data`\n",
        "FIELDS TERMINATED BY ',' OPTIONALLY ENCLOSED by '\"'\n",
        "LINES STARTING BY '' TERMINATED BY '\\n';\n",
        "```"
      ]
    },
    {
      "cell_type": "markdown",
      "id": "d67ca4ef",
      "metadata": {
        "id": "d67ca4ef"
      },
      "source": [
        "### Task D\n",
        "\n",
        "This table should contain the house price paid and the latitude and longitude of the house. We could create a new data frame that contains all this information. However, the computation of that data frame would take some time because of the size of the two existing tables in the join. Whether this is a good idea or not in a live system will depend on how often these predictions are required. If it's very often, it would be better to store the join as a new table in the database, because the one-off cost for that join is amortised across all the future predictions. If only a few predictions are required (like in our lab class) then doing that join on the fly might be better.\n",
        "\n",
        "- Option A: Think about which columns from each table will be useful to you in making predictions, then write code to efficiently select this information and create a data frame from the two tables for a set of properties. \"Join on the fly\". This option looks easier but the disadvantage is the extra latency it adds as joins are performed every time we need to answer data questions. These latencies are usually not accepted in production environments.\n",
        "\n",
        "- Option B: Alternatively, you can create a database table called `property_prices` to store the join of the tables you created in the previous tasks. The advantage of this approach is that you will get faster responses because the join is performed once. The disadvantage is that populating the new table can take a long time because you would join two big tables. You need to be more creative with this option. Remember that you can divide your dataset by different criteria (e.g., by year) and that loading data from files is much faster than `INSERT INTO` instructions. Populating the table took from 4 to 6 minutes per year in our tests on a Dell Laptop Intel Core i5 with 16GB of RAM and using the Eduroam network at the Computer Lab. Populating the table by year also gives you control over the upload process. You could write your code in a way you can stop and restart the upload process. The new table could have a schema like the one below:\n",
        "\n",
        "  ```\n",
        "  USE `property_prices`;\n",
        "  --\n",
        "  -- Table structure for table `prices_coordinates_data`\n",
        "  --\n",
        "  DROP TABLE IF EXISTS `prices_coordinates_data`;\n",
        "  CREATE TABLE IF NOT EXISTS `prices_coordinates_data` (\n",
        "    `price` int(10) unsigned NOT NULL,\n",
        "    `date_of_transfer` date NOT NULL,\n",
        "    `postcode` varchar(8) COLLATE utf8_bin NOT NULL,\n",
        "    `property_type` varchar(1) COLLATE utf8_bin NOT NULL,\n",
        "    `new_build_flag` varchar(1) COLLATE utf8_bin NOT NULL,\n",
        "    `tenure_type` varchar(1) COLLATE utf8_bin NOT NULL,\n",
        "    `locality` tinytext COLLATE utf8_bin NOT NULL,\n",
        "    `town_city` tinytext COLLATE utf8_bin NOT NULL,\n",
        "    `district` tinytext COLLATE utf8_bin NOT NULL,\n",
        "    `county` tinytext COLLATE utf8_bin NOT NULL,\n",
        "    `country` enum('England', 'Wales', 'Scotland', 'Northern Ireland', 'Channel Islands', 'Isle of Man') NOT NULL,\n",
        "    `latitude` decimal(11,8) NOT NULL,\n",
        "    `longitude` decimal(10,8) NOT NULL,\n",
        "    `db_id` bigint(20) unsigned NOT NULL\n",
        "  ) DEFAULT CHARSET=utf8 COLLATE=utf8_bin AUTO_INCREMENT=1 ;\n",
        "\n",
        "  ```\n",
        "\n",
        "In both cases you will need to perform a join between `pp_data` and `postcode_data` tables. Joining large tables without the right indexes in place will take a long time. You should think and set the right index for an efficient join. Indexing the `pp_data` table should take less than 5 minutes, while it takes less than one minute to index the `postcode_data` table.\n",
        "\n",
        "Note that there is no preference for either approach in the mark scheme.\n",
        "\n",
        "You should use the joined data in your prediction model in Question 3. Exploit the nature of the task to use prices for a particular region in a given period. This means we can select the relevant rows from the database according to that region and period.\n",
        "\n",
        "***After you have populated your database tables and created the functions to access the data you need for Question 3, you will not need to redo any of the previous steps. If at some point you find the AWS database is not responding or taking longer than expected to perform operations, you can have a look at the process list and kill the one are causing problems. If killing the processes does not work, you should reboot the database in the AWS console. Be careful with other database instances if you need to reboot your database. Also, be careful not to delete the database instead of rebooting it. If you delete the database, it is likely you will need to redo all Question 1.***"
      ]
    },
    {
      "cell_type": "code",
      "execution_count": null,
      "id": "Y-lttyzUtSv7",
      "metadata": {
        "id": "Y-lttyzUtSv7"
      },
      "outputs": [],
      "source": [
        "# Write the code you used to join the tables, or the code you used to join on the fly."
      ]
    },
    {
      "cell_type": "markdown",
      "id": "df36e5d1",
      "metadata": {
        "id": "df36e5d1"
      },
      "source": [
        "## Question 2. Accessing OpenStreetMap and Assessing the Available Features\n",
        "\n",
        "In question 3 you will be given the task of constructing a prediction system for property price levels at a given location. We expect that knowledge of the local region around the property should be helpful in making those price predictions. To evaluate this we will now look at [OpenStreetMap](https://www.openstreetmap.org) as a data source.\n",
        "\n",
        "The tasks below will guide you in accessing and assessing the OpenStreetMap data. The code you write will eventually be assimilated in your python module, but documentation of what you've included and why should remain in the notebook below.\n",
        "\n",
        "Accessing OpenStreetMap through its API can be done using the python library `osmx`. Using what you have learned about the `osmx` interface in the lectures, write general code for downloading points of interest and other relevant information that you believe may be useful for predicting house prices. Remembering the perspectives we've taken on *data science as debugging*, the remarks we've made when discussing *the data crisis* of the importance of reusability in data analysis, and the techniques we've explored in the labsessions for visualising features and exploring their correlation use the notebook to document your assessment of the OpenStreetMap data as a potential source of data.\n",
        "\n",
        "The knowledge you need to do a first pass through this question will have been taught by end of lab session three (16th November 2021). You will likely want to review your answer as part of *refactoring* your code and analysis pipeline shortly before hand in.\n",
        "\n",
        "You should write reusable code that allows you to explore the characteristics of different points of interest. Looking ahead to question 3 you'll want to incorporate these points of interest in your prediction code.\n",
        "\n",
        "*5 marks*\n"
      ]
    },
    {
      "cell_type": "code",
      "execution_count": null,
      "id": "042a2863",
      "metadata": {
        "id": "042a2863"
      },
      "outputs": [],
      "source": [
        "# Use this cell and cells below for summarising your analysis and documenting your decision making.\n",
        "\n"
      ]
    },
    {
      "cell_type": "markdown",
      "id": "09a0e365",
      "metadata": {
        "id": "09a0e365"
      },
      "source": [
        "## Question 3. Addressing a Property Price Prediction Question\n",
        "\n",
        "For your final tick, we will be asking you to make house price predictions for a given location, date and property type in the UK. You will provide a function that takes input a latitude and longitude as well as the `property_type` (either type\" of property (either `F` - flat, `S` - semidetached, `D` - detached, `T` - terraced or `O` other). Create this function in the `address.py` file, for example in the form,\n",
        "\n",
        "```\n",
        "def predict_price(latitude, longitude, date, property_type):\n",
        "    \"\"\"Price prediction for UK housing.\"\"\"\n",
        "    pass\n",
        "```\n",
        "\n",
        "We suggest that you use the following approach when building your prediction.\n",
        "\n",
        "1. Select a bounding box around the housing location in latitude and longitude.\n",
        "2. Select a data range around the prediction date.\n",
        "3. Use the data ecosystem you have build above to build a training set from the relevant time period and location in the UK. Include appropriate features from OSM to improve the prediction.\n",
        "4. Train a linear model on the data set you have created.\n",
        "5. Validate the quality of the model.\n",
        "6. Provide a prediction of the price from the model, warning appropriately if your validation indicates the quality of the model is poor.\n",
        "\n",
        "Please note that the quality of predictions is not the main focus of the assignment - we expect to see models that output reasonable predictions and have positive R^2's, but you should not spend too much time on increasing the model's accuracy.\n",
        "\n",
        "The knowledge you need to do a first pass through this question will have been taught by end of lab session four (7th November 2023). You will likely want to review your answer as part of *refactoring* your code shortly before hand in.\n",
        "\n"
      ]
    },
    {
      "cell_type": "code",
      "execution_count": null,
      "id": "Si3K0A2zM7pa",
      "metadata": {
        "id": "Si3K0A2zM7pa"
      },
      "outputs": [],
      "source": []
    },
    {
      "cell_type": "markdown",
      "id": "eEDpLiW0Zr_L",
      "metadata": {
        "id": "eEDpLiW0Zr_L"
      },
      "source": [
        "## Large Language Models\n",
        "\n",
        "If you used LLMs to generate or fix code in this assignment (recommended), briefly summarise the process and prompts you used. What do you think of the integration of LLMs in the data science pipeline?"
      ]
    },
    {
      "cell_type": "markdown",
      "id": "osdBm1BNaHL1",
      "metadata": {
        "id": "osdBm1BNaHL1"
      },
      "source": [
        "```GIVE YOUR WRITTEN ANSWER HERE```"
      ]
    },
    {
      "cell_type": "markdown",
      "id": "DJDQPmkLldvp",
      "metadata": {
        "id": "DJDQPmkLldvp"
      },
      "source": [
        "### FAQs\n",
        "\n",
        "- Why is my connection to the AWS server intermittent?\n",
        "\n",
        "If you are using Google Colab, online notebooks may throttle your code or time you out. Local Python code is recommended for tasks for large data management in the database.\n",
        "\n",
        "- Why do SQL queries take a long time?\n",
        "\n",
        "Some queries legitimately take a long time, even when done right. We suggest indexing your tables to speed up queries over your database. You can index tables by different columns depending on the queries you want to perform. For example, indexing the tables by `postcode` could speed up the join in Task D. More information regarding indexing in MariaDB is available [here](https://mariadb.com/kb/en/getting-started-with-indexes/).\n",
        "\n",
        "You may also want to consider creating single or multi-column indices on coordinates, or any other properties you use to select data, if that step is taking a long time.\n",
        "\n",
        "If your new queries seem stuck, try running `SHOW FULL PROCESSLIST`, and `KILL` any stuck processes.\n",
        "\n",
        "- Why are table populating processes taking so long?\n",
        "\n",
        "Again populating the database can take long. However, be careful if you are indexing the tables. You should populate data before indexing. Insert operations are impacted by indexes as they are updated with each new row inserted into the table.\n",
        "\n",
        "- Some other questions are answered in [this reddit forum](https://www.reddit.com/r/CST_ADS/) or [this doc](https://docs.google.com/document/d/1GfDROyUW8HVs2eyxmJzKrYGRdVyUiVXzPcDfwOO8wX0/edit?usp=sharing). Feel free to also ask about anything that comes up."
      ]
    }
  ],
  "metadata": {
    "colab": {
      "provenance": []
    },
    "kernelspec": {
      "display_name": "Python 3",
      "language": "python",
      "name": "python3"
    },
    "language_info": {
      "codemirror_mode": {
        "name": "ipython",
        "version": 3
      },
      "file_extension": ".py",
      "mimetype": "text/x-python",
      "name": "python",
      "nbconvert_exporter": "python",
      "pygments_lexer": "ipython3",
      "version": "3.12.0"
    }
  },
  "nbformat": 4,
  "nbformat_minor": 5
}
