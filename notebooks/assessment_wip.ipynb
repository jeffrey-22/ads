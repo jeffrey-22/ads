{
  "cells": [
    {
      "cell_type": "code",
      "execution_count": null,
      "id": "13f71cb7",
      "metadata": {
        "id": "13f71cb7"
      },
      "outputs": [],
      "source": [
        "# Install your library here, for example the fynesse template\n",
        "# is set up to be pip installable\n",
        "%pip install git+https://github.com/jeffrey-22/ads.git\n",
        "import os, fynesse\n",
        "# 2 min"
      ]
    },
    {
      "cell_type": "code",
      "execution_count": 4,
      "metadata": {},
      "outputs": [
        {
          "name": "stdout",
          "output_type": "stream",
          "text": [
            "The autoreload extension is already loaded. To reload it, use:\n",
            "  %reload_ext autoreload\n"
          ]
        }
      ],
      "source": [
        "# Import local fynesse module. Do NOT run this cell if the notebook is not run from the repo - this is a quick hack for local runs\n",
        "%load_ext autoreload\n",
        "%autoreload 2\n",
        "import os, sys, IPython\n",
        "from pathlib import Path\n",
        "try:\n",
        "    notebook_path = Path(IPython.get_ipython().run_line_magic('pwd', '')).as_posix()\n",
        "except AttributeError:\n",
        "    notebook_path = Path(__file__).resolve().as_posix()\n",
        "script_path = os.path.abspath(notebook_path)\n",
        "project_path = os.path.abspath(os.path.join(script_path, '..'))\n",
        "sys.path.append(project_path)\n",
        "import fynesse"
      ]
    },
    {
      "cell_type": "code",
      "execution_count": null,
      "metadata": {},
      "outputs": [],
      "source": [
        "# Create connections. The connections will be reused throughout the modules\n",
        "pp_database_details = fynesse.access.retreive_database_details()\n",
        "# fynesse.access.create_database(pp_database_details)\n",
        "pp_database_conn = fynesse.access.create_connection(pp_database_details)"
      ]
    },
    {
      "cell_type": "markdown",
      "id": "d7d9d674",
      "metadata": {
        "id": "d7d9d674"
      },
      "source": [
        "The schema stores price transaction data about the traded households.\n",
        "- ```transaction_unique_identifier``` and ```db_id``` are indices for transactions and for our database respectively.\n",
        "- ```price``` describes, in GBP, the price of the household.\n",
        "- ```postcode```, ```primary_addressable_object_name```, ```secondary_addressable_object_name```, ```street```, ```locality```, ```town_city```, ```district```, ```county``` describe the address. We will ultimately only use the postcode to find the latitude and longitude.\n",
        "- ```property_type``` describes one of: Detached, Semi-detached, Terraced, Flat/maisonette, Other, indicated by the initials.\n",
        "- ```new_build_flag```, ```tenure_type```, ```ppd_category_type```, ```record_status``` likely describe some categories, but they are not very helpful as we are ultimately not given these when predicting.\n",
        "\n",
        "We will do some sanity checks and general visualisation of the data in the address part."
      ]
    },
    {
      "cell_type": "code",
      "execution_count": null,
      "id": "92da8c96",
      "metadata": {
        "id": "92da8c96"
      },
      "outputs": [],
      "source": [
        "# Write the code you need for creating the table, downloading and uploading the data here. You can use as many code blocks as you need.\n",
        "# Warning: run these once when populating the database. No need to run them again just for prediction!\n",
        "# 20 min\n",
        "os.makedirs(\"tmp_data\", exist_ok=True)\n",
        "downloaded_pathnames = fynesse.access.download_price_data()\n",
        "print(f\"Downloaded files: {downloaded_pathnames}\")\n",
        "fynesse.access.create_pp_table(pp_database_conn)\n",
        "# 15m\n",
        "fynesse.access.upload_files_to_table(pp_database_conn, downloaded_pathnames, 'pp_data')\n",
        "# 11m\n",
        "fynesse.access.setup_pp_table(pp_database_conn)"
      ]
    },
    {
      "cell_type": "code",
      "execution_count": null,
      "metadata": {},
      "outputs": [],
      "source": [
        "# Warning: run these once when populating the database. No need to run them again just for prediction!\n",
        "fynesse.access.create_postcode_table(pp_database_conn)\n",
        "# 10s\n",
        "postcode_filename = fynesse.access.download_postcode_data()\n",
        "# 1m\n",
        "fynesse.access.upload_files_to_table(pp_database_conn, [postcode_filename], 'postcode_data')\n",
        "# 1m\n",
        "fynesse.access.setup_postcode_table(pp_database_conn)"
      ]
    },
    {
      "cell_type": "code",
      "execution_count": null,
      "id": "Y-lttyzUtSv7",
      "metadata": {
        "id": "Y-lttyzUtSv7"
      },
      "outputs": [],
      "source": [
        "# Warning: run these once when populating the database. No need to run them again just for prediction!\n",
        "fynesse.access.create_prices_coordinates_table(pp_database_conn)\n",
        "# 20m\n",
        "joined_table_pathnames = fynesse.access.join_all_tables(downloaded_pathnames, postcode_filename, overwrite=False)\n",
        "# 10m\n",
        "fynesse.access.upload_files_to_table(pp_database_conn, joined_table_pathnames, 'prices_coordinates_data', ignore_first_row=True)\n",
        "# 9m\n",
        "fynesse.access.setup_prices_coordinates_table(pp_database_conn)"
      ]
    },
    {
      "cell_type": "markdown",
      "id": "df36e5d1",
      "metadata": {
        "id": "df36e5d1"
      },
      "source": [
        "## Question 2. Accessing OpenStreetMap and Assessing the Available Features\n",
        "\n",
        "In question 3 you will be given the task of constructing a prediction system for property price levels at a given location. We expect that knowledge of the local region around the property should be helpful in making those price predictions. To evaluate this we will now look at [OpenStreetMap](https://www.openstreetmap.org) as a data source.\n",
        "\n",
        "The tasks below will guide you in accessing and assessing the OpenStreetMap data. The code you write will eventually be assimilated in your python module, but documentation of what you've included and why should remain in the notebook below.\n",
        "\n",
        "Accessing OpenStreetMap through its API can be done using the python library `osmx`. Using what you have learned about the `osmx` interface in the lectures, write general code for downloading points of interest and other relevant information that you believe may be useful for predicting house prices. Remembering the perspectives we've taken on *data science as debugging*, the remarks we've made when discussing *the data crisis* of the importance of reusability in data analysis, and the techniques we've explored in the labsessions for visualising features and exploring their correlation use the notebook to document your assessment of the OpenStreetMap data as a potential source of data.\n",
        "\n",
        "The knowledge you need to do a first pass through this question will have been taught by end of lab session three (16th November 2021). You will likely want to review your answer as part of *refactoring* your code and analysis pipeline shortly before hand in.\n",
        "\n",
        "You should write reusable code that allows you to explore the characteristics of different points of interest. Looking ahead to question 3 you'll want to incorporate these points of interest in your prediction code.\n",
        "\n",
        "*5 marks*\n"
      ]
    },
    {
      "cell_type": "code",
      "execution_count": null,
      "id": "042a2863",
      "metadata": {
        "id": "042a2863"
      },
      "outputs": [],
      "source": [
        "# Use this cell and cells below for summarising your analysis and documenting your decision making."
      ]
    },
    {
      "cell_type": "code",
      "execution_count": 4,
      "metadata": {},
      "outputs": [
        {
          "name": "stdout",
          "output_type": "stream",
          "text": [
            "Explained Variance Ratio: [0.29005782 0.23214006 0.18701323 0.15426411 0.13652477]\n",
            "Principal Components:\n",
            "100\n",
            "[[ 0.12338063  0.00976194  0.12045144 -0.05408748 -0.04422174]\n",
            " [ 0.00754624  0.13603111 -0.18950419 -0.04625231 -0.09271119]\n",
            " [ 0.23269906  0.02761399  0.03065082  0.0429948  -0.01436272]\n",
            " [ 0.04564239  0.00209513 -0.08425635  0.06005296 -0.11312667]\n",
            " [-0.07031759 -0.07054058 -0.10690928  0.04548833 -0.00887608]\n",
            " [-0.04237996 -0.12681684 -0.03560634 -0.09784192 -0.11723192]\n",
            " [-0.22292024  0.09538146 -0.01586747  0.05746745 -0.00621258]\n",
            " [-0.14287864 -0.07229839  0.02244075  0.02277046 -0.01983526]\n",
            " [-0.05375733  0.03556943  0.09600858  0.15981331 -0.20419865]\n",
            " [-0.01937748 -0.08094334 -0.02962887 -0.06028077 -0.07740401]\n",
            " [-0.02310773  0.05618061  0.0999706  -0.26985888  0.07705218]\n",
            " [-0.07610371 -0.20295466 -0.13922898  0.04121898  0.07569644]\n",
            " [ 0.07110406 -0.01762223 -0.12461358 -0.06498576 -0.06829724]\n",
            " [ 0.00106953  0.05229044 -0.24859607 -0.03437616  0.1713219 ]\n",
            " [-0.20723719 -0.00650817  0.00306427  0.04783003 -0.00659155]\n",
            " [-0.00572933 -0.15565944  0.11803019  0.08655822  0.03248226]\n",
            " [ 0.01641682 -0.16201398 -0.00475959  0.02276992  0.14375116]\n",
            " [ 0.02108085  0.10542733  0.09166447 -0.04594738 -0.0738102 ]\n",
            " [ 0.07692747  0.16334873 -0.0122691   0.01309725  0.03023027]\n",
            " [ 0.08903928 -0.14325668 -0.05287746  0.07052789  0.02050803]\n",
            " [ 0.00663279  0.15453835 -0.01236141  0.17238901  0.04711932]\n",
            " [ 0.13101006 -0.0555937  -0.0929277  -0.00123921 -0.09276976]\n",
            " [-0.00686553  0.13804371 -0.1203984  -0.12016074 -0.11531078]\n",
            " [-0.11225245 -0.00695162  0.18153298 -0.02941245  0.05078541]\n",
            " [ 0.05720314 -0.15432244  0.08237573  0.035648    0.14743695]\n",
            " [ 0.16202449 -0.00418675 -0.05099494 -0.01986133  0.15815877]\n",
            " [-0.10336384  0.04223093 -0.11771454  0.15961838  0.09484141]\n",
            " [ 0.02508914  0.13047909 -0.09700275  0.0132996   0.12691928]\n",
            " [-0.04579276 -0.14842917 -0.07652642 -0.08573784  0.0438826 ]\n",
            " [ 0.14902233 -0.02120621 -0.06861491  0.15187755 -0.01087397]\n",
            " [-0.1831801  -0.00446495 -0.06740328  0.02858171  0.1625935 ]\n",
            " [ 0.10232834  0.08780377 -0.06822563  0.02459186  0.10496078]\n",
            " [ 0.08465149 -0.03173957  0.03675286 -0.02470581 -0.09903641]\n",
            " [-0.06240758 -0.12855031 -0.09922189  0.07698515  0.1633932 ]\n",
            " [-0.06131237 -0.04755303 -0.19635325 -0.01179338  0.05928628]\n",
            " [ 0.02374256  0.04554923  0.13089349  0.04195511 -0.19907115]\n",
            " [ 0.00667368  0.06183997 -0.09125694 -0.15202471 -0.22038804]\n",
            " [ 0.04551475 -0.04985962  0.09853632 -0.05552492  0.02104929]\n",
            " [ 0.1553176   0.11030282  0.066596   -0.04162532 -0.06582441]\n",
            " [ 0.02666899  0.18664908  0.04353637 -0.1168719   0.0047992 ]\n",
            " [-0.18318194  0.01606907 -0.02952003  0.01427269 -0.09074125]\n",
            " [ 0.13046241 -0.05096781 -0.22474798  0.10223208 -0.11633841]\n",
            " [ 0.0531256   0.02377434 -0.03686107 -0.00830047  0.1617601 ]\n",
            " [-0.00689829  0.15701346 -0.10213476 -0.02471666 -0.0112439 ]\n",
            " [-0.03430857 -0.11840045  0.04720997  0.09593452  0.02152744]\n",
            " [ 0.00976947  0.13802177  0.16776308  0.05289811 -0.01125801]\n",
            " [ 0.00193824 -0.09585532  0.01425609 -0.09451494 -0.008919  ]\n",
            " [-0.11582978 -0.12418581  0.03146275  0.05845652 -0.09469713]\n",
            " [ 0.12206003 -0.12587729  0.10487293 -0.20630434  0.07204786]\n",
            " [-0.08993364  0.11363614 -0.00734408 -0.27612696  0.0612106 ]\n",
            " [ 0.11610479 -0.02418115 -0.09905206 -0.04747667 -0.08534356]\n",
            " [ 0.10252762 -0.03943741  0.12911584 -0.081779   -0.02227313]\n",
            " [-0.04736615  0.05237096  0.1365524   0.10186207  0.19850348]\n",
            " [ 0.05918359 -0.06766022  0.02284752 -0.09555164  0.06541779]\n",
            " [-0.00337358  0.06210512  0.11780219 -0.21839608  0.02911161]\n",
            " [ 0.00236792  0.11934466  0.06386516 -0.05237769  0.08758304]\n",
            " [-0.0450066  -0.11474552 -0.10062602  0.00307939  0.16121984]\n",
            " [ 0.07724595  0.07320801 -0.09571409  0.11836826 -0.00891695]\n",
            " [ 0.10061974  0.00093425 -0.19520696  0.00409706 -0.20796135]\n",
            " [ 0.0098742  -0.07819003  0.13918623  0.05573547 -0.0692133 ]\n",
            " [ 0.02497441  0.14956833 -0.02783878  0.07742253 -0.03841579]\n",
            " [-0.10289698 -0.08975426  0.09787998 -0.09464028 -0.02137219]\n",
            " [-0.2083555   0.0916618  -0.03424484  0.097689   -0.08560211]\n",
            " [-0.01846222 -0.15606691 -0.03671315  0.08702244  0.04470656]\n",
            " [ 0.02688507  0.08189224 -0.0398763  -0.00922572  0.21264473]\n",
            " [ 0.02509783 -0.08133362  0.0059679  -0.08039252  0.01782015]\n",
            " [ 0.06886559 -0.14928082  0.06528963  0.21269844 -0.00066928]\n",
            " [ 0.17116998  0.02860575  0.06304567  0.03830215 -0.10621928]\n",
            " [-0.03454757 -0.05163703  0.00584719  0.10287513 -0.00510843]\n",
            " [-0.06298322 -0.04010627  0.04292732  0.13169564  0.11132821]\n",
            " [ 0.14902801 -0.0998089   0.04198861 -0.01070761  0.03691469]\n",
            " [-0.13032721  0.051869   -0.07831727 -0.11733015 -0.11672735]\n",
            " [-0.02438045  0.12196799 -0.00237639  0.0495492   0.11190046]\n",
            " [ 0.20898768 -0.05033622  0.04563061 -0.05947177  0.02540269]\n",
            " [-0.05427749 -0.04260134 -0.06618881  0.15911899 -0.28157057]\n",
            " [-0.02691162  0.00664318  0.18592113  0.14023467 -0.08674094]\n",
            " [ 0.01822219  0.18847401  0.05176738  0.01079114 -0.04973043]\n",
            " [-0.17664831  0.01793512 -0.00769931  0.00395454  0.05068558]\n",
            " [-0.11457187 -0.08007176  0.05702801 -0.10962192 -0.01434913]\n",
            " [-0.07936715  0.03057811  0.13608459 -0.08710862  0.15313537]\n",
            " [ 0.07333342  0.09665281  0.14166322  0.0470283  -0.10940929]\n",
            " [-0.15166866 -0.13008694  0.12141568 -0.00835131 -0.1235667 ]\n",
            " [ 0.1206126   0.13050158  0.05655883 -0.08702538  0.0672207 ]\n",
            " [-0.09288774  0.06761693 -0.04738123  0.04492957 -0.00718119]\n",
            " [-0.02085625 -0.15612204  0.15165154  0.04935365  0.00294655]\n",
            " [ 0.0968399  -0.06592716 -0.06429478 -0.11834603 -0.05101836]\n",
            " [ 0.18349598 -0.05452359 -0.01028125  0.08548684 -0.02577878]\n",
            " [-0.02014464 -0.06693452 -0.08901676 -0.1852907  -0.16890066]\n",
            " [ 0.07887752  0.12556432  0.06451936  0.16464177  0.11965515]\n",
            " [ 0.094143   -0.12585709  0.12615384 -0.1583708   0.09377649]\n",
            " [-0.05687609 -0.06323937  0.11922155 -0.09956014 -0.11298325]\n",
            " [ 0.02689567 -0.1514655  -0.19310054  0.04468424 -0.06601381]\n",
            " [ 0.04610181  0.20155788 -0.03879719  0.02014776  0.06142007]\n",
            " [ 0.03298366  0.10706627 -0.19758338 -0.03388492  0.1267164 ]\n",
            " [-0.00295741  0.12298823  0.19700721  0.20214126 -0.07787042]\n",
            " [-0.17224383 -0.01256362 -0.03507358 -0.18844206 -0.0657709 ]\n",
            " [-0.0256122   0.02421319  0.06490219 -0.02279889  0.05846172]\n",
            " [-0.23674146  0.04776605 -0.05054269 -0.07466501  0.00709696]\n",
            " [ 0.02904685 -0.05261547 -0.01201149  0.11621426  0.08106301]\n",
            " [-0.14302619  0.16056742  0.08575363  0.11491288  0.01451372]]\n"
          ]
        }
      ],
      "source": [
        "import numpy as np\n",
        "import sklearn\n",
        "from sklearn.preprocessing import StandardScaler\n",
        "from statsmodels.multivariate import pca\n",
        "\n",
        "# Create a sample dataset (replace this with your own data)\n",
        "np.random.seed(42)\n",
        "data = np.random.rand(100, 5)  # 100 datapoints with 5 features each\n",
        "\n",
        "# Standardize the data\n",
        "scaler = StandardScaler()\n",
        "data_standardized = scaler.fit_transform(data)\n",
        "\n",
        "# Perform PCA with Statsmodels\n",
        "pca_model = pca.PCA(data_standardized, method='eig')\n",
        "\n",
        "# Explained variance ratio\n",
        "explained_variance_ratio = pca_model.eigenvals / np.sum(pca_model.eigenvals)\n",
        "print(\"Explained Variance Ratio:\", explained_variance_ratio)\n",
        "\n",
        "# The transformed data with reduced dimensions\n",
        "principal_components = pca_model.factors\n",
        "print(\"Principal Components:\")\n",
        "print(len(principal_components))\n",
        "print(principal_components)"
      ]
    },
    {
      "cell_type": "markdown",
      "metadata": {},
      "source": [
        "## Model decisions\n",
        "\n",
        "There are a total of X features, they are:\n",
        "- latitude\n",
        "\n",
        "Reasonings for the features:\n",
        "- aaa\n",
        "\n",
        "The model is a GLM, with a link of $f(x) = e^x$\n",
        "\n",
        "Reasonings for the model:\n",
        "- aaa"
      ]
    },
    {
      "cell_type": "markdown",
      "id": "09a0e365",
      "metadata": {
        "id": "09a0e365"
      },
      "source": [
        "## Question 3. Addressing a Property Price Prediction Question\n",
        "\n",
        "For your final tick, we will be asking you to make house price predictions for a given location, date and property type in the UK. You will provide a function that takes input a latitude and longitude as well as the `property_type` (either type\" of property (either `F` - flat, `S` - semidetached, `D` - detached, `T` - terraced or `O` other). Create this function in the `address.py` file, for example in the form,\n",
        "\n",
        "```\n",
        "def predict_price(latitude, longitude, date, property_type):\n",
        "    \"\"\"Price prediction for UK housing.\"\"\"\n",
        "    pass\n",
        "```\n",
        "\n",
        "We suggest that you use the following approach when building your prediction.\n",
        "\n",
        "1. Select a bounding box around the housing location in latitude and longitude.\n",
        "2. Select a data range around the prediction date.\n",
        "3. Use the data ecosystem you have build above to build a training set from the relevant time period and location in the UK. Include appropriate features from OSM to improve the prediction.\n",
        "4. Train a linear model on the data set you have created.\n",
        "5. Validate the quality of the model.\n",
        "6. Provide a prediction of the price from the model, warning appropriately if your validation indicates the quality of the model is poor.\n",
        "\n",
        "Please note that the quality of predictions is not the main focus of the assignment - we expect to see models that output reasonable predictions and have positive R^2's, but you should not spend too much time on increasing the model's accuracy.\n",
        "\n",
        "The knowledge you need to do a first pass through this question will have been taught by end of lab session four (7th November 2023). You will likely want to review your answer as part of *refactoring* your code shortly before hand in.\n",
        "\n"
      ]
    },
    {
      "cell_type": "code",
      "execution_count": 3,
      "metadata": {},
      "outputs": [
        {
          "name": "stdout",
          "output_type": "stream",
          "text": [
            "==== Validation of current model, level 2 ====\n",
            "No warning issued\n",
            "                 Generalized Linear Model Regression Results                  \n",
            "==============================================================================\n",
            "Dep. Variable:                      y   No. Observations:                  609\n",
            "Model:                            GLM   Df Residuals:                      594\n",
            "Model Family:                Gaussian   Df Model:                           14\n",
            "Link Function:               Identity   Scale:                      8.6974e+12\n",
            "Method:                          IRLS   Log-Likelihood:                -9928.8\n",
            "Date:                Sat, 25 Nov 2023   Deviance:                   5.1663e+15\n",
            "Time:                        00:42:33   Pearson chi2:                 5.17e+15\n",
            "No. Iterations:                     3   Pseudo R-squ. (CS):             0.1423\n",
            "Covariance Type:            nonrobust                                         \n",
            "==============================================================================\n",
            "                 coef    std err          z      P>|z|      [0.025      0.975]\n",
            "------------------------------------------------------------------------------\n",
            "const       7.487e+08   5.52e+08      1.357      0.175   -3.33e+08    1.83e+09\n",
            "x1          2599.1354   1062.104      2.447      0.014     517.449    4680.822\n",
            "x2          1.493e+08    1.1e+08      1.352      0.176   -6.71e+07    3.66e+08\n",
            "x3          1.484e+08    1.1e+08      1.345      0.179   -6.79e+07    3.65e+08\n",
            "x4          1.528e+08    1.1e+08      1.385      0.166   -6.34e+07    3.69e+08\n",
            "x5          1.492e+08    1.1e+08      1.351      0.177   -6.73e+07    3.66e+08\n",
            "x6          1.489e+08    1.1e+08      1.349      0.177   -6.74e+07    3.65e+08\n",
            "x7         -1.765e+07   1.27e+07     -1.392      0.164   -4.25e+07     7.2e+06\n",
            "x8         -9.338e+06   2.39e+07     -0.391      0.696   -5.62e+07    3.75e+07\n",
            "x9         -3.654e+09   6.17e+09     -0.593      0.553   -1.57e+10    8.43e+09\n",
            "x10        -1.922e+08   1.08e+09     -0.177      0.859   -2.32e+09    1.93e+09\n",
            "x11         8.926e+09   4.76e+09      1.873      0.061   -4.13e+08    1.83e+10\n",
            "x12          -3.6e+09   8.52e+09     -0.422      0.673   -2.03e+10    1.31e+10\n",
            "x13        -4.052e+10    2.9e+10     -1.397      0.162   -9.73e+10    1.63e+10\n",
            "x14        -1.153e+10   1.71e+10     -0.675      0.500    -4.5e+10     2.2e+10\n",
            "x15        -7.408e+09   5.42e+10     -0.137      0.891   -1.14e+11    9.89e+10\n",
            "==============================================================================\n",
            "==== End of Validation ====\n"
          ]
        },
        {
          "data": {
            "text/plain": [
              "1679782.3748247623"
            ]
          },
          "execution_count": 3,
          "metadata": {},
          "output_type": "execute_result"
        }
      ],
      "source": [
        "from datetime import date\n",
        "fynesse.address.predict_price(52.206767, 0.119229, date(2023, 1, 1), 'S', pp_database_conn)"
      ]
    },
    {
      "cell_type": "markdown",
      "id": "eEDpLiW0Zr_L",
      "metadata": {
        "id": "eEDpLiW0Zr_L"
      },
      "source": [
        "## Large Language Models\n",
        "\n",
        "If you used LLMs to generate or fix code in this assignment (recommended), briefly summarise the process and prompts you used. What do you think of the integration of LLMs in the data science pipeline?"
      ]
    },
    {
      "cell_type": "markdown",
      "id": "osdBm1BNaHL1",
      "metadata": {
        "id": "osdBm1BNaHL1"
      },
      "source": [
        "```GIVE YOUR WRITTEN ANSWER HERE```"
      ]
    },
    {
      "cell_type": "markdown",
      "id": "DJDQPmkLldvp",
      "metadata": {
        "id": "DJDQPmkLldvp"
      },
      "source": [
        "- Some other questions are answered in [this reddit forum](https://www.reddit.com/r/CST_ADS/) or [this doc](https://docs.google.com/document/d/1GfDROyUW8HVs2eyxmJzKrYGRdVyUiVXzPcDfwOO8wX0/edit?usp=sharing). Feel free to also ask about anything that comes up."
      ]
    }
  ],
  "metadata": {
    "colab": {
      "provenance": []
    },
    "kernelspec": {
      "display_name": "Python 3",
      "language": "python",
      "name": "python3"
    },
    "language_info": {
      "codemirror_mode": {
        "name": "ipython",
        "version": 3
      },
      "file_extension": ".py",
      "mimetype": "text/x-python",
      "name": "python",
      "nbconvert_exporter": "python",
      "pygments_lexer": "ipython3",
      "version": "3.12.0"
    }
  },
  "nbformat": 4,
  "nbformat_minor": 5
}
